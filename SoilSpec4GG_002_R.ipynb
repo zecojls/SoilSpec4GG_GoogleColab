{
  "nbformat": 4,
  "nbformat_minor": 0,
  "metadata": {
    "colab": {
      "name": "SoilSpec4GG_002.R",
      "provenance": [],
      "collapsed_sections": [],
      "toc_visible": true,
      "authorship_tag": "ABX9TyM695JeAlNBTAVwXKVFyZwK",
      "include_colab_link": true
    },
    "kernelspec": {
      "name": "ir",
      "display_name": "R"
    },
    "language_info": {
      "name": "R"
    }
  },
  "cells": [
    {
      "cell_type": "markdown",
      "metadata": {
        "id": "view-in-github",
        "colab_type": "text"
      },
      "source": [
        "<a href=\"https://colab.research.google.com/github/zecojls/SoilSpec4GG_GoogleColab/blob/main/SoilSpec4GG_002_R.ipynb\" target=\"_parent\"><img src=\"https://colab.research.google.com/assets/colab-badge.svg\" alt=\"Open In Colab\"/></a>"
      ]
    },
    {
      "cell_type": "markdown",
      "source": [
        "# Initial setup and packages"
      ],
      "metadata": {
        "id": "DtFS-P3EozL4"
      }
    },
    {
      "cell_type": "markdown",
      "source": [
        "1. Checking the packages-installation folder\n"
      ],
      "metadata": {
        "id": "sNwdEmeosxm-"
      }
    },
    {
      "cell_type": "code",
      "source": [
        "#.libPaths()"
      ],
      "metadata": {
        "id": "MxQnLGK_swNr"
      },
      "execution_count": null,
      "outputs": []
    },
    {
      "cell_type": "markdown",
      "source": [
        "2. Checking working directory"
      ],
      "metadata": {
        "id": "rUYH4zFstjb1"
      }
    },
    {
      "cell_type": "code",
      "source": [
        "#getwd()"
      ],
      "metadata": {
        "id": "ovm3UNXotARJ"
      },
      "execution_count": null,
      "outputs": []
    },
    {
      "cell_type": "markdown",
      "source": [
        "3. Listing working directory. *sample_data* comes from default Google Colab notebook"
      ],
      "metadata": {
        "id": "Us9gFbaItmKm"
      }
    },
    {
      "cell_type": "code",
      "source": [
        "#list.files()"
      ],
      "metadata": {
        "id": "IfSSO3z-tRIB"
      },
      "execution_count": null,
      "outputs": []
    },
    {
      "cell_type": "markdown",
      "source": [
        "4. Checking available (native) packages that are already loaded\n",
        "\n"
      ],
      "metadata": {
        "id": "diaSz6AiuA8W"
      }
    },
    {
      "cell_type": "code",
      "source": [
        "#search()"
      ],
      "metadata": {
        "id": "j46KlCrytidB"
      },
      "execution_count": null,
      "outputs": []
    },
    {
      "cell_type": "markdown",
      "source": [
        "5. Checking available (native) packages that are already installed, but not loaded"
      ],
      "metadata": {
        "id": "IVa33IPxNt7s"
      }
    },
    {
      "cell_type": "code",
      "source": [
        "#with(data.frame(installed.packages()), Package)"
      ],
      "metadata": {
        "id": "c0zqtMxiNkBB"
      },
      "execution_count": null,
      "outputs": []
    },
    {
      "cell_type": "markdown",
      "source": [
        "5. Installing required packages. NOTE: the packages must be reinstalled every session"
      ],
      "metadata": {
        "id": "1aL2YDU_no-1"
      }
    },
    {
      "cell_type": "code",
      "source": [
        "install.packages(\"prospectr\")"
      ],
      "metadata": {
        "colab": {
          "base_uri": "https://localhost:8080/"
        },
        "id": "45avB6bSn5kl",
        "outputId": "3b73f682-8840-47e9-adb7-0d710841f66a"
      },
      "execution_count": null,
      "outputs": [
        {
          "output_type": "stream",
          "name": "stderr",
          "text": [
            "Installing package into ‘/usr/local/lib/R/site-library’\n",
            "(as ‘lib’ is unspecified)\n",
            "\n",
            "also installing the dependencies ‘foreach’, ‘iterators’, ‘mathjaxr’, ‘RcppArmadillo’\n",
            "\n",
            "\n"
          ]
        }
      ]
    },
    {
      "cell_type": "markdown",
      "source": [
        "6. Loading the required packages."
      ],
      "metadata": {
        "id": "cf0Ii2npn9gE"
      }
    },
    {
      "cell_type": "code",
      "execution_count": null,
      "metadata": {
        "colab": {
          "base_uri": "https://localhost:8080/"
        },
        "id": "_wn9cXgTnbse",
        "outputId": "5fecac17-3c13-4218-a2ca-f268ac39717f"
      },
      "outputs": [
        {
          "output_type": "stream",
          "name": "stderr",
          "text": [
            "Warning message in system(\"timedatectl\", intern = TRUE):\n",
            "“running command 'timedatectl' had status 1”\n",
            "── \u001b[1mAttaching packages\u001b[22m ─────────────────────────────────────── tidyverse 1.3.1 ──\n",
            "\n",
            "\u001b[32m✔\u001b[39m \u001b[34mggplot2\u001b[39m 3.3.5     \u001b[32m✔\u001b[39m \u001b[34mpurrr  \u001b[39m 0.3.4\n",
            "\u001b[32m✔\u001b[39m \u001b[34mtibble \u001b[39m 3.1.6     \u001b[32m✔\u001b[39m \u001b[34mdplyr  \u001b[39m 1.0.7\n",
            "\u001b[32m✔\u001b[39m \u001b[34mtidyr  \u001b[39m 1.1.4     \u001b[32m✔\u001b[39m \u001b[34mstringr\u001b[39m 1.4.0\n",
            "\u001b[32m✔\u001b[39m \u001b[34mreadr  \u001b[39m 2.1.1     \u001b[32m✔\u001b[39m \u001b[34mforcats\u001b[39m 0.5.1\n",
            "\n",
            "── \u001b[1mConflicts\u001b[22m ────────────────────────────────────────── tidyverse_conflicts() ──\n",
            "\u001b[31m✖\u001b[39m \u001b[34mdplyr\u001b[39m::\u001b[32mfilter()\u001b[39m masks \u001b[34mstats\u001b[39m::filter()\n",
            "\u001b[31m✖\u001b[39m \u001b[34mdplyr\u001b[39m::\u001b[32mlag()\u001b[39m    masks \u001b[34mstats\u001b[39m::lag()\n",
            "\n",
            "prospectr version 0.2.2 -- 'flawil'\n",
            "\n",
            "check the github repository at: http://github.com/l-ramirez-lopez/prospectr\n",
            "\n"
          ]
        }
      ],
      "source": [
        "library(tidyverse)\n",
        "library(prospectr)"
      ]
    },
    {
      "cell_type": "markdown",
      "source": [
        "# Loading the full OSSL dataset"
      ],
      "metadata": {
        "id": "jXu85eIHvxQN"
      }
    },
    {
      "cell_type": "markdown",
      "source": [
        "Loading the full OSSL data from S3 bucket."
      ],
      "metadata": {
        "id": "FWdWZAtTpCYF"
      }
    },
    {
      "cell_type": "code",
      "source": [
        "rm.ossl = readRDS(url(\"http://s3.us-east-1.wasabisys.com/soilspectroscopy/ossl_import/rm.ossl_v1.rds\", \"rb\"))\n",
        "dim(rm.ossl)"
      ],
      "metadata": {
        "colab": {
          "base_uri": "https://localhost:8080/",
          "height": 34
        },
        "id": "qSekBH5KpGDu",
        "outputId": "53314bae-7bea-4ec1-ad34-86d1541fc000"
      },
      "execution_count": null,
      "outputs": [
        {
          "output_type": "display_data",
          "data": {
            "text/plain": [
              "[1] 152146   2962"
            ],
            "text/latex": "\\begin{enumerate*}\n\\item 152146\n\\item 2962\n\\end{enumerate*}\n",
            "text/markdown": "1. 152146\n2. 2962\n\n\n",
            "text/html": [
              "<style>\n",
              ".list-inline {list-style: none; margin:0; padding: 0}\n",
              ".list-inline>li {display: inline-block}\n",
              ".list-inline>li:not(:last-child)::after {content: \"\\00b7\"; padding: 0 .5ex}\n",
              "</style>\n",
              "<ol class=list-inline><li>152146</li><li>2962</li></ol>\n"
            ]
          },
          "metadata": {}
        }
      ]
    },
    {
      "cell_type": "code",
      "source": [
        "str(rm.ossl)"
      ],
      "metadata": {
        "colab": {
          "base_uri": "https://localhost:8080/"
        },
        "id": "51QBmIcRDl47",
        "outputId": "3077a427-bf09-4a5a-d961-a2f366597dcd"
      },
      "execution_count": null,
      "outputs": [
        {
          "output_type": "stream",
          "name": "stdout",
          "text": [
            "'data.frame':\t152146 obs. of  2962 variables:\n",
            " $ id.layer_uuid_c                                             : chr  \"bd934b2680a2478c8a8ce1913ae79172\" \"ff03863683a192953930bcb2a874b527\" \"1fe42f85d1cb818e99d190c80686063a\" \"8ea0ca98a9a8002ad7e713616d53ed86\" ...\n",
            " $ id.layer_local_c                                            : chr  \"icr006475\" \"icr006586\" \"icr007929\" \"icr008008\" ...\n",
            " $ sample.doi_idf_c                                            : chr  \"10.1016/j.geodrs.2015.06.002\" \"10.1016/j.geodrs.2015.06.002\" \"10.1016/j.geodrs.2015.06.002\" \"10.1016/j.geodrs.2015.06.002\" ...\n",
            " $ sample.contact.name_utf8_txt                                : chr  \"Keith Shepherd\" \"Keith Shepherd\" \"Keith Shepherd\" \"Keith Shepherd\" ...\n",
            " $ sample.contact.email_ietf_email                             : chr  \"afsis.info@africasoils.net\" \"afsis.info@africasoils.net\" \"afsis.info@africasoils.net\" \"afsis.info@africasoils.net\" ...\n",
            " $ acid.tea_usda4b2_cmolkg                                     : num  NA NA NA NA NA NA NA NA NA NA ...\n",
            " $ al.dith_usda.4g1_wpct                                       : num  NA NA NA NA NA NA NA NA NA NA ...\n",
            " $ al.kcl_usda.4b3_cmolkg                                      : num  2.56 0.59 0.19 0.48 1.05 ...\n",
            " $ al.ox_usda.4g2_wpct                                         : num  NA NA NA NA NA NA NA NA NA NA ...\n",
            " $ bsat_usda.4b4_wpct                                          : num  NA NA NA NA NA NA NA NA NA NA ...\n",
            " $ bd.clod_usda.3b1_gcm3                                       : num  NA NA NA NA NA NA NA NA NA NA ...\n",
            " $ bd.od_usda.3b2_gcm3                                         : num  NA NA NA NA NA NA NA NA NA NA ...\n",
            " $ ca.ext_usda.4b1_cmolkg                                      : num  NA NA NA NA NA NA NA NA NA NA ...\n",
            " $ c.tot_usda.4h2_wpct                                         : num  NA NA NA NA NA NA NA NA NA NA ...\n",
            " $ caco3_usda.4e1_wpct                                         : num  NA NA NA NA NA NA NA NA NA NA ...\n",
            " $ cec.ext_usda.4b1_cmolkg                                     : num  NA NA NA NA NA NA NA NA NA NA ...\n",
            " $ clay.tot_usda.3a1_wpct                                      : num  NA NA NA NA NA NA NA NA NA NA ...\n",
            " $ gyp_usda.4e2_wpct                                           : num  NA NA NA NA NA NA NA NA NA NA ...\n",
            " $ ecec_usda.4b4_cmolkg                                        : num  NA NA NA NA NA NA NA NA NA NA ...\n",
            " $ ec.w_usda.4f1_dsm                                           : num  0.053 0.193 0.305 0.053 0.032 0.055 0.131 0.099 0.029 0.212 ...\n",
            " $ oc_usda.calc_wpct                                           : num  NA NA NA NA NA NA NA NA NA NA ...\n",
            " $ fe.dith_usda.4g1_wpct                                       : num  NA NA NA NA NA NA NA NA NA NA ...\n",
            " $ fe.kcl_usda.4b3_mgkg                                        : num  NA NA NA NA NA NA NA NA NA NA ...\n",
            " $ fe.ox_usda.4g2_wpct                                         : num  NA NA NA NA NA NA NA NA NA NA ...\n",
            " $ mg.ext_usda.4b1_cmolkg                                      : num  NA NA NA NA NA NA NA NA NA NA ...\n",
            " $ n.tot_usda.4h2_wpct                                         : num  NA NA NA NA NA NA NA NA NA NA ...\n",
            " $ ph.kcl_usda.4c1_index                                       : num  NA NA NA NA NA NA NA NA NA NA ...\n",
            " $ ph.h2o_usda.4c1_index                                       : num  4.68 7.06 7.11 5.65 5.5 ...\n",
            " $ ph.cacl2_usda.4c1_index                                     : num  NA NA NA NA NA NA NA NA NA NA ...\n",
            " $ ph.naf_usda.4c1_index                                       : num  NA NA NA NA NA NA NA NA NA NA ...\n",
            " $ p.ext_usda.4d6_mgkg                                         : num  4.5 12.51 21.09 109.2 3.96 ...\n",
            " $ p.olsn_usda.4d5_mgkg                                        : num  NA NA NA NA NA NA NA NA NA NA ...\n",
            " $ k.ext_usda.4b1_cmolkg                                       : num  NA NA NA NA NA NA NA NA NA NA ...\n",
            " $ sand.tot_usda.3a1_wpct                                      : num  NA NA NA NA NA NA NA NA NA NA ...\n",
            " $ wpg2_usda.3a2_wpct                                          : num  NA NA NA NA NA NA NA NA NA NA ...\n",
            " $ silt.tot_usda.3a1_wpct                                      : num  NA NA NA NA NA NA NA NA NA NA ...\n",
            " $ na.ext_usda.4b1_cmolkg                                      : num  NA NA NA NA NA NA NA NA NA NA ...\n",
            " $ s.tot_usda.4h2_wpct                                         : num  NA NA NA NA NA NA NA NA NA NA ...\n",
            " $ sum.bases_4b4b2a_cmolkg                                     : num  NA NA NA NA NA NA NA NA NA NA ...\n",
            " $ wr.33kbar_usda.3c1_wpct                                     : num  NA NA NA NA NA NA NA NA NA NA ...\n",
            " $ wr.1500kbar_usda.3c2_wpct                                   : num  NA NA NA NA NA NA NA NA NA NA ...\n",
            " $ al.meh3_usda.4d6_wpct                                       : num  NA NA NA NA NA NA NA NA NA NA ...\n",
            " $ as.meh3_usda.4d6_mgkg                                       : num  NA NA NA NA NA NA NA NA NA NA ...\n",
            " $ ba.meh3_usda.4d6_mgkg                                       : num  NA NA NA NA NA NA NA NA NA NA ...\n",
            " $ ca.meh3_usda.4d6_mgkg                                       : num  207 1665 2518 734 262 ...\n",
            " $ cd.meh3_usda.4d6_wpct                                       : num  NA NA NA NA NA NA NA NA NA NA ...\n",
            " $ co.meh3_usda.4d6_mgkg                                       : num  NA NA NA NA NA NA NA NA NA NA ...\n",
            " $ cr.meh3_usda.4d6_mgkg                                       : num  NA NA NA NA NA NA NA NA NA NA ...\n",
            " $ cu.meh3_usda.4d6_mgkg                                       : num  NA NA NA NA NA NA NA NA NA NA ...\n",
            " $ p.meh3_usda.4d6_mgkg                                        : num  NA NA NA NA NA NA NA NA NA NA ...\n",
            " $ k.meh3_usda.4d6_mgkg                                        : num  306.3 1186 72.6 274.6 91.8 ...\n",
            " $ na.meh3_usda.4d6_mgkg                                       : num  42.7 40.8 42.9 20.7 49.3 ...\n",
            " $ mg.meh3_usda.4d6_mgkg                                       : num  89.5 636.7 428.5 222.5 76.5 ...\n",
            " $ fe.meh3_usda.4d6_mgkg                                       : num  NA NA NA NA NA NA NA NA NA NA ...\n",
            " $ pb.meh3_usda.4d6_mgkg                                       : num  NA NA NA NA NA NA NA NA NA NA ...\n",
            " $ zn.meh3_usda.4d6_mgkg                                       : num  2.83 1.95 2.74 0.98 1.26 ...\n",
            " $ mo.meh3_usda.4d6_mgkg                                       : num  NA NA NA NA NA NA NA NA NA NA ...\n",
            " $ si.meh3_usda.4d6_mgkg                                       : num  NA NA NA NA NA NA NA NA NA NA ...\n",
            " $ sr.meh3_usda.4d6_mgkg                                       : num  NA NA NA NA NA NA NA NA NA NA ...\n",
            " $ id.location_olc_c                                           : chr  \"6G5RWC6P+G9\" \"6G5RWFV5+P3\" \"6G6VMF6V+78\" \"6G6VMG88+G4\" ...\n",
            " $ observation.ogc.schema.title_ogc_txt                        : chr  \"Open Soil Spectroscopy Library\" \"Open Soil Spectroscopy Library\" \"Open Soil Spectroscopy Library\" \"Open Soil Spectroscopy Library\" ...\n",
            " $ observation.ogc.schema_idn_url                              : chr  \"https://soilspectroscopy.github.io\" \"https://soilspectroscopy.github.io\" \"https://soilspectroscopy.github.io\" \"https://soilspectroscopy.github.io\" ...\n",
            " $ observation.date.begin_iso.8601_yyyy.mm.dd                  : chr  \"1996-11-01\" \"1996-11-01\" \"1996-11-01\" \"1996-11-01\" ...\n",
            " $ observation.date.end_iso.8601_yyyy.mm.dd                    : chr  \"2006-11-01\" \"2006-11-01\" \"2006-11-01\" \"2006-11-01\" ...\n",
            " $ location.address_utf8_txt                                   : chr  \"Unknown\" \"Unknown\" \"Unknown\" \"Unknown\" ...\n",
            " $ location.country_iso.3166_c                                 : chr  NA NA NA NA ...\n",
            " $ location.method_any_c                                       : chr  \"GPS\" \"GPS\" \"GPS\" \"GPS\" ...\n",
            " $ surveyor.title_utf8_txt                                     : chr  \"Tor Gunnar Vagen\" \"Tor Gunnar Vagen\" \"Tor Gunnar Vagen\" \"Tor Gunnar Vagen\" ...\n",
            " $ surveyor.contact_ietf_email                                 : chr  NA NA NA NA ...\n",
            " $ surveyor.address_utf8_txt                                   : chr  \"ICRAF, PO Box 30677, Nairobi, 00100, Kenya\" \"ICRAF, PO Box 30677, Nairobi, 00100, Kenya\" \"ICRAF, PO Box 30677, Nairobi, 00100, Kenya\" \"ICRAF, PO Box 30677, Nairobi, 00100, Kenya\" ...\n",
            " $ longitude_wgs84_dd                                          : num  36.4 36.5 37.5 37.5 35.2 ...\n",
            " $ latitude_wgs84_dd                                           : num  -6.09 -6.06 -5.34 -5.33 -11.09 ...\n",
            " $ location.error_any_m                                        : num  30 30 30 30 30 30 30 30 30 30 ...\n",
            " $ dataset.title_utf8_txt                                      : chr  \"Africa Soil Information Service (AfSIS-1)\" \"Africa Soil Information Service (AfSIS-1)\" \"Africa Soil Information Service (AfSIS-1)\" \"Africa Soil Information Service (AfSIS-1)\" ...\n",
            " $ dataset.owner_utf8_txt                                      : chr  \"the World Agroforestry Centre (ICRAF), Crop Nutrition Laboratory Services Ltd. (CROPNUTS), and Rothamsted Research (RRES)\" \"the World Agroforestry Centre (ICRAF), Crop Nutrition Laboratory Services Ltd. (CROPNUTS), and Rothamsted Research (RRES)\" \"the World Agroforestry Centre (ICRAF), Crop Nutrition Laboratory Services Ltd. (CROPNUTS), and Rothamsted Research (RRES)\" \"the World Agroforestry Centre (ICRAF), Crop Nutrition Laboratory Services Ltd. (CROPNUTS), and Rothamsted Research (RRES)\" ...\n",
            " $ dataset.code_ascii_c                                        : chr  \"AFSIS1.SSL\" \"AFSIS1.SSL\" \"AFSIS1.SSL\" \"AFSIS1.SSL\" ...\n",
            " $ dataset.address_idn_url                                     : chr  \"ICRAF, PO Box 30677, Nairobi, 00100, Kenya\" \"ICRAF, PO Box 30677, Nairobi, 00100, Kenya\" \"ICRAF, PO Box 30677, Nairobi, 00100, Kenya\" \"ICRAF, PO Box 30677, Nairobi, 00100, Kenya\" ...\n",
            " $ dataset.license.title_ascii_txt                             : chr  \"ODC Open Database License\" \"ODC Open Database License\" \"ODC Open Database License\" \"ODC Open Database License\" ...\n",
            " $ dataset.license.address_idn_url                             : chr  \"https://opendatacommons.org/licenses/odbl/\" \"https://opendatacommons.org/licenses/odbl/\" \"https://opendatacommons.org/licenses/odbl/\" \"https://opendatacommons.org/licenses/odbl/\" ...\n",
            " $ dataset.doi_idf_c                                           : chr  NA NA NA NA ...\n",
            " $ dataset.contact.name_utf8_txt                               : chr  \"Keith Shepherd\" \"Keith Shepherd\" \"Keith Shepherd\" \"Keith Shepherd\" ...\n",
            " $ dataset.contact_ietf_email                                  : chr  \"afsis.info@africasoils.net\" \"afsis.info@africasoils.net\" \"afsis.info@africasoils.net\" \"afsis.info@africasoils.net\" ...\n",
            " $ id.project_ascii_c                                          : chr  NA NA NA NA ...\n",
            " $ id.user.site_ascii_c                                        : chr  NA NA NA NA ...\n",
            " $ pedon.taxa_usda_c                                           : chr  NA NA NA NA ...\n",
            " $ pedon.completeness_usda_uint8                               : logi  NA NA NA NA NA NA ...\n",
            " $ layer.sequence_usda_uint16                                  : num  2 1 2 2 1 1 1 1 2 2 ...\n",
            " $ layer.type_usda_c                                           : chr  NA NA NA NA ...\n",
            " $ layer.field.label_any_c                                     : chr  NA NA NA NA ...\n",
            " $ layer.upper.depth_usda_cm                                   : num  20 0 20 20 0 0 0 0 20 20 ...\n",
            " $ layer.lower.depth_usda_cm                                   : num  50 20 50 50 20 20 20 20 50 50 ...\n",
            " $ horizon.designation_usda_c                                  : chr  NA NA NA NA ...\n",
            " $ horizon.designation.discontinuity_usda_c                    : int  NA NA NA NA NA NA NA NA NA NA ...\n",
            " $ layer.structure.type_usda_c                                 : logi  NA NA NA NA NA NA ...\n",
            " $ layer.structure.grade_usda_c                                : logi  NA NA NA NA NA NA ...\n",
            " $ layer.texture_usda_c                                        : chr  NA NA NA NA ...\n",
            " $ vnirmodel.code_any_c                                        : chr  NA NA NA NA ...\n",
            " $ scan_visnir.350_pcnt                                        : num  NA NA NA NA NA NA NA NA NA NA ...\n",
            " $ scan_visnir.352_pcnt                                        : num  NA NA NA NA NA NA NA NA NA NA ...\n",
            "  [list output truncated]\n"
          ]
        }
      ]
    },
    {
      "cell_type": "markdown",
      "source": [
        "Checking available SSL"
      ],
      "metadata": {
        "id": "mRuQB9WdESGZ"
      }
    },
    {
      "cell_type": "code",
      "source": [
        "rm.ossl %>%\n",
        "  distinct(dataset.code_ascii_c)"
      ],
      "metadata": {
        "colab": {
          "base_uri": "https://localhost:8080/",
          "height": 318
        },
        "id": "0RBlHa2MD6Fp",
        "outputId": "d13ea112-d7e9-4415-b0c3-39595bdddd2d"
      },
      "execution_count": null,
      "outputs": [
        {
          "output_type": "display_data",
          "data": {
            "text/plain": [
              "  dataset.code_ascii_c\n",
              "1 AFSIS1.SSL          \n",
              "2 AFSIS2.SSL          \n",
              "3 CAF.SSL             \n",
              "4 KSSL.SSL            \n",
              "5 ICRAF.ISRIC         \n",
              "6 LUCAS.SSL           \n",
              "7 NEON.SSL            "
            ],
            "text/latex": "A data.frame: 7 × 1\n\\begin{tabular}{l}\n dataset.code\\_ascii\\_c\\\\\n <chr>\\\\\n\\hline\n\t AFSIS1.SSL \\\\\n\t AFSIS2.SSL \\\\\n\t CAF.SSL    \\\\\n\t KSSL.SSL   \\\\\n\t ICRAF.ISRIC\\\\\n\t LUCAS.SSL  \\\\\n\t NEON.SSL   \\\\\n\\end{tabular}\n",
            "text/markdown": "\nA data.frame: 7 × 1\n\n| dataset.code_ascii_c &lt;chr&gt; |\n|---|\n| AFSIS1.SSL  |\n| AFSIS2.SSL  |\n| CAF.SSL     |\n| KSSL.SSL    |\n| ICRAF.ISRIC |\n| LUCAS.SSL   |\n| NEON.SSL    |\n\n",
            "text/html": [
              "<table class=\"dataframe\">\n",
              "<caption>A data.frame: 7 × 1</caption>\n",
              "<thead>\n",
              "\t<tr><th scope=col>dataset.code_ascii_c</th></tr>\n",
              "\t<tr><th scope=col>&lt;chr&gt;</th></tr>\n",
              "</thead>\n",
              "<tbody>\n",
              "\t<tr><td>AFSIS1.SSL </td></tr>\n",
              "\t<tr><td>AFSIS2.SSL </td></tr>\n",
              "\t<tr><td>CAF.SSL    </td></tr>\n",
              "\t<tr><td>KSSL.SSL   </td></tr>\n",
              "\t<tr><td>ICRAF.ISRIC</td></tr>\n",
              "\t<tr><td>LUCAS.SSL  </td></tr>\n",
              "\t<tr><td>NEON.SSL   </td></tr>\n",
              "</tbody>\n",
              "</table>\n"
            ]
          },
          "metadata": {}
        }
      ]
    },
    {
      "cell_type": "markdown",
      "source": [
        ""
      ],
      "metadata": {
        "id": "C9L5SGXYEWPY"
      }
    }
  ]
}