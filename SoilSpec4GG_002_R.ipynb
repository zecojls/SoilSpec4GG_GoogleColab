{
  "nbformat": 4,
  "nbformat_minor": 0,
  "metadata": {
    "colab": {
      "name": "SoilSpec4GG_002.R",
      "provenance": [],
      "collapsed_sections": [],
      "toc_visible": true,
      "authorship_tag": "ABX9TyNlU8uA4l/rbyC9HNLP8sDx",
      "include_colab_link": true
    },
    "kernelspec": {
      "name": "ir",
      "display_name": "R"
    },
    "language_info": {
      "name": "R"
    }
  },
  "cells": [
    {
      "cell_type": "markdown",
      "metadata": {
        "id": "view-in-github",
        "colab_type": "text"
      },
      "source": [
        "<a href=\"https://colab.research.google.com/github/zecojls/SoilSpec4GG_GoogleColab/blob/main/SoilSpec4GG_002_R.ipynb\" target=\"_parent\"><img src=\"https://colab.research.google.com/assets/colab-badge.svg\" alt=\"Open In Colab\"/></a>"
      ]
    },
    {
      "cell_type": "markdown",
      "source": [
        "# Initial setup and packages"
      ],
      "metadata": {
        "id": "DtFS-P3EozL4"
      }
    },
    {
      "cell_type": "markdown",
      "source": [
        "## Installing packages\n",
        "NOTE: the packages must be reinstalled every session"
      ],
      "metadata": {
        "id": "1aL2YDU_no-1"
      }
    },
    {
      "cell_type": "code",
      "source": [
        "install.packages(\"prospectr\")"
      ],
      "metadata": {
        "colab": {
          "base_uri": "https://localhost:8080/"
        },
        "id": "45avB6bSn5kl",
        "outputId": "2c01070e-5c22-4759-c5db-975beb038fb3"
      },
      "execution_count": 6,
      "outputs": [
        {
          "output_type": "stream",
          "name": "stderr",
          "text": [
            "Installing package into ‘/usr/local/lib/R/site-library’\n",
            "(as ‘lib’ is unspecified)\n",
            "\n"
          ]
        }
      ]
    },
    {
      "cell_type": "markdown",
      "source": [
        "## Loading packages"
      ],
      "metadata": {
        "id": "cf0Ii2npn9gE"
      }
    },
    {
      "cell_type": "code",
      "execution_count": 7,
      "metadata": {
        "colab": {
          "base_uri": "https://localhost:8080/"
        },
        "id": "_wn9cXgTnbse",
        "outputId": "291b0d72-c291-4a10-92ea-794f9748b9cf"
      },
      "outputs": [
        {
          "output_type": "stream",
          "name": "stderr",
          "text": [
            "Warning message in system(\"timedatectl\", intern = TRUE):\n",
            "“running command 'timedatectl' had status 1”\n",
            "── \u001b[1mAttaching packages\u001b[22m ─────────────────────────────────────── tidyverse 1.3.1 ──\n",
            "\n",
            "\u001b[32m✔\u001b[39m \u001b[34mggplot2\u001b[39m 3.3.5     \u001b[32m✔\u001b[39m \u001b[34mpurrr  \u001b[39m 0.3.4\n",
            "\u001b[32m✔\u001b[39m \u001b[34mtibble \u001b[39m 3.1.6     \u001b[32m✔\u001b[39m \u001b[34mdplyr  \u001b[39m 1.0.7\n",
            "\u001b[32m✔\u001b[39m \u001b[34mtidyr  \u001b[39m 1.1.4     \u001b[32m✔\u001b[39m \u001b[34mstringr\u001b[39m 1.4.0\n",
            "\u001b[32m✔\u001b[39m \u001b[34mreadr  \u001b[39m 2.1.1     \u001b[32m✔\u001b[39m \u001b[34mforcats\u001b[39m 0.5.1\n",
            "\n",
            "── \u001b[1mConflicts\u001b[22m ────────────────────────────────────────── tidyverse_conflicts() ──\n",
            "\u001b[31m✖\u001b[39m \u001b[34mdplyr\u001b[39m::\u001b[32mfilter()\u001b[39m masks \u001b[34mstats\u001b[39m::filter()\n",
            "\u001b[31m✖\u001b[39m \u001b[34mdplyr\u001b[39m::\u001b[32mlag()\u001b[39m    masks \u001b[34mstats\u001b[39m::lag()\n",
            "\n",
            "prospectr version 0.2.2 -- 'flawil'\n",
            "\n",
            "check the github repository at: http://github.com/l-ramirez-lopez/prospectr\n",
            "\n"
          ]
        }
      ],
      "source": [
        "library(tidyverse)\n",
        "library(prospectr)"
      ]
    },
    {
      "cell_type": "markdown",
      "source": [
        "# Loading the full OSSL dataset"
      ],
      "metadata": {
        "id": "jXu85eIHvxQN"
      }
    },
    {
      "cell_type": "markdown",
      "source": [
        "Loading the full OSSL data from S3 bucket. It takes about 25 secs."
      ],
      "metadata": {
        "id": "FWdWZAtTpCYF"
      }
    },
    {
      "cell_type": "code",
      "source": [
        "rm.ossl = readRDS(url(\"http://s3.us-east-1.wasabisys.com/soilspectroscopy/ossl_import/rm.ossl_v1.rds\", \"rb\"))\n",
        "dim(rm.ossl)"
      ],
      "metadata": {
        "colab": {
          "base_uri": "https://localhost:8080/",
          "height": 34
        },
        "id": "qSekBH5KpGDu",
        "outputId": "de49dc63-e0cd-47df-c3d3-8810503c5d71"
      },
      "execution_count": 8,
      "outputs": [
        {
          "output_type": "display_data",
          "data": {
            "text/plain": [
              "[1] 152146   2962"
            ],
            "text/latex": "\\begin{enumerate*}\n\\item 152146\n\\item 2962\n\\end{enumerate*}\n",
            "text/markdown": "1. 152146\n2. 2962\n\n\n",
            "text/html": [
              "<style>\n",
              ".list-inline {list-style: none; margin:0; padding: 0}\n",
              ".list-inline>li {display: inline-block}\n",
              ".list-inline>li:not(:last-child)::after {content: \"\\00b7\"; padding: 0 .5ex}\n",
              "</style>\n",
              "<ol class=list-inline><li>152146</li><li>2962</li></ol>\n"
            ]
          },
          "metadata": {}
        }
      ]
    },
    {
      "cell_type": "markdown",
      "source": [
        "## Checking object class and internal data"
      ],
      "metadata": {
        "id": "pXFJMuqYHpIM"
      }
    },
    {
      "cell_type": "code",
      "source": [
        "str(rm.ossl)"
      ],
      "metadata": {
        "colab": {
          "base_uri": "https://localhost:8080/"
        },
        "id": "51QBmIcRDl47",
        "outputId": "2a8ae58e-1828-4a5c-ae9c-db460b0aa132"
      },
      "execution_count": 9,
      "outputs": [
        {
          "output_type": "stream",
          "name": "stdout",
          "text": [
            "'data.frame':\t152146 obs. of  2962 variables:\n",
            " $ id.layer_uuid_c                                             : chr  \"bd934b2680a2478c8a8ce1913ae79172\" \"ff03863683a192953930bcb2a874b527\" \"1fe42f85d1cb818e99d190c80686063a\" \"8ea0ca98a9a8002ad7e713616d53ed86\" ...\n",
            " $ id.layer_local_c                                            : chr  \"icr006475\" \"icr006586\" \"icr007929\" \"icr008008\" ...\n",
            " $ sample.doi_idf_c                                            : chr  \"10.1016/j.geodrs.2015.06.002\" \"10.1016/j.geodrs.2015.06.002\" \"10.1016/j.geodrs.2015.06.002\" \"10.1016/j.geodrs.2015.06.002\" ...\n",
            " $ sample.contact.name_utf8_txt                                : chr  \"Keith Shepherd\" \"Keith Shepherd\" \"Keith Shepherd\" \"Keith Shepherd\" ...\n",
            " $ sample.contact.email_ietf_email                             : chr  \"afsis.info@africasoils.net\" \"afsis.info@africasoils.net\" \"afsis.info@africasoils.net\" \"afsis.info@africasoils.net\" ...\n",
            " $ acid.tea_usda4b2_cmolkg                                     : num  NA NA NA NA NA NA NA NA NA NA ...\n",
            " $ al.dith_usda.4g1_wpct                                       : num  NA NA NA NA NA NA NA NA NA NA ...\n",
            " $ al.kcl_usda.4b3_cmolkg                                      : num  2.56 0.59 0.19 0.48 1.05 ...\n",
            " $ al.ox_usda.4g2_wpct                                         : num  NA NA NA NA NA NA NA NA NA NA ...\n",
            " $ bsat_usda.4b4_wpct                                          : num  NA NA NA NA NA NA NA NA NA NA ...\n",
            " $ bd.clod_usda.3b1_gcm3                                       : num  NA NA NA NA NA NA NA NA NA NA ...\n",
            " $ bd.od_usda.3b2_gcm3                                         : num  NA NA NA NA NA NA NA NA NA NA ...\n",
            " $ ca.ext_usda.4b1_cmolkg                                      : num  NA NA NA NA NA NA NA NA NA NA ...\n",
            " $ c.tot_usda.4h2_wpct                                         : num  NA NA NA NA NA NA NA NA NA NA ...\n",
            " $ caco3_usda.4e1_wpct                                         : num  NA NA NA NA NA NA NA NA NA NA ...\n",
            " $ cec.ext_usda.4b1_cmolkg                                     : num  NA NA NA NA NA NA NA NA NA NA ...\n",
            " $ clay.tot_usda.3a1_wpct                                      : num  NA NA NA NA NA NA NA NA NA NA ...\n",
            " $ gyp_usda.4e2_wpct                                           : num  NA NA NA NA NA NA NA NA NA NA ...\n",
            " $ ecec_usda.4b4_cmolkg                                        : num  NA NA NA NA NA NA NA NA NA NA ...\n",
            " $ ec.w_usda.4f1_dsm                                           : num  0.053 0.193 0.305 0.053 0.032 0.055 0.131 0.099 0.029 0.212 ...\n",
            " $ oc_usda.calc_wpct                                           : num  NA NA NA NA NA NA NA NA NA NA ...\n",
            " $ fe.dith_usda.4g1_wpct                                       : num  NA NA NA NA NA NA NA NA NA NA ...\n",
            " $ fe.kcl_usda.4b3_mgkg                                        : num  NA NA NA NA NA NA NA NA NA NA ...\n",
            " $ fe.ox_usda.4g2_wpct                                         : num  NA NA NA NA NA NA NA NA NA NA ...\n",
            " $ mg.ext_usda.4b1_cmolkg                                      : num  NA NA NA NA NA NA NA NA NA NA ...\n",
            " $ n.tot_usda.4h2_wpct                                         : num  NA NA NA NA NA NA NA NA NA NA ...\n",
            " $ ph.kcl_usda.4c1_index                                       : num  NA NA NA NA NA NA NA NA NA NA ...\n",
            " $ ph.h2o_usda.4c1_index                                       : num  4.68 7.06 7.11 5.65 5.5 ...\n",
            " $ ph.cacl2_usda.4c1_index                                     : num  NA NA NA NA NA NA NA NA NA NA ...\n",
            " $ ph.naf_usda.4c1_index                                       : num  NA NA NA NA NA NA NA NA NA NA ...\n",
            " $ p.ext_usda.4d6_mgkg                                         : num  4.5 12.51 21.09 109.2 3.96 ...\n",
            " $ p.olsn_usda.4d5_mgkg                                        : num  NA NA NA NA NA NA NA NA NA NA ...\n",
            " $ k.ext_usda.4b1_cmolkg                                       : num  NA NA NA NA NA NA NA NA NA NA ...\n",
            " $ sand.tot_usda.3a1_wpct                                      : num  NA NA NA NA NA NA NA NA NA NA ...\n",
            " $ wpg2_usda.3a2_wpct                                          : num  NA NA NA NA NA NA NA NA NA NA ...\n",
            " $ silt.tot_usda.3a1_wpct                                      : num  NA NA NA NA NA NA NA NA NA NA ...\n",
            " $ na.ext_usda.4b1_cmolkg                                      : num  NA NA NA NA NA NA NA NA NA NA ...\n",
            " $ s.tot_usda.4h2_wpct                                         : num  NA NA NA NA NA NA NA NA NA NA ...\n",
            " $ sum.bases_4b4b2a_cmolkg                                     : num  NA NA NA NA NA NA NA NA NA NA ...\n",
            " $ wr.33kbar_usda.3c1_wpct                                     : num  NA NA NA NA NA NA NA NA NA NA ...\n",
            " $ wr.1500kbar_usda.3c2_wpct                                   : num  NA NA NA NA NA NA NA NA NA NA ...\n",
            " $ al.meh3_usda.4d6_wpct                                       : num  NA NA NA NA NA NA NA NA NA NA ...\n",
            " $ as.meh3_usda.4d6_mgkg                                       : num  NA NA NA NA NA NA NA NA NA NA ...\n",
            " $ ba.meh3_usda.4d6_mgkg                                       : num  NA NA NA NA NA NA NA NA NA NA ...\n",
            " $ ca.meh3_usda.4d6_mgkg                                       : num  207 1665 2518 734 262 ...\n",
            " $ cd.meh3_usda.4d6_wpct                                       : num  NA NA NA NA NA NA NA NA NA NA ...\n",
            " $ co.meh3_usda.4d6_mgkg                                       : num  NA NA NA NA NA NA NA NA NA NA ...\n",
            " $ cr.meh3_usda.4d6_mgkg                                       : num  NA NA NA NA NA NA NA NA NA NA ...\n",
            " $ cu.meh3_usda.4d6_mgkg                                       : num  NA NA NA NA NA NA NA NA NA NA ...\n",
            " $ p.meh3_usda.4d6_mgkg                                        : num  NA NA NA NA NA NA NA NA NA NA ...\n",
            " $ k.meh3_usda.4d6_mgkg                                        : num  306.3 1186 72.6 274.6 91.8 ...\n",
            " $ na.meh3_usda.4d6_mgkg                                       : num  42.7 40.8 42.9 20.7 49.3 ...\n",
            " $ mg.meh3_usda.4d6_mgkg                                       : num  89.5 636.7 428.5 222.5 76.5 ...\n",
            " $ fe.meh3_usda.4d6_mgkg                                       : num  NA NA NA NA NA NA NA NA NA NA ...\n",
            " $ pb.meh3_usda.4d6_mgkg                                       : num  NA NA NA NA NA NA NA NA NA NA ...\n",
            " $ zn.meh3_usda.4d6_mgkg                                       : num  2.83 1.95 2.74 0.98 1.26 ...\n",
            " $ mo.meh3_usda.4d6_mgkg                                       : num  NA NA NA NA NA NA NA NA NA NA ...\n",
            " $ si.meh3_usda.4d6_mgkg                                       : num  NA NA NA NA NA NA NA NA NA NA ...\n",
            " $ sr.meh3_usda.4d6_mgkg                                       : num  NA NA NA NA NA NA NA NA NA NA ...\n",
            " $ id.location_olc_c                                           : chr  \"6G5RWC6P+G9\" \"6G5RWFV5+P3\" \"6G6VMF6V+78\" \"6G6VMG88+G4\" ...\n",
            " $ observation.ogc.schema.title_ogc_txt                        : chr  \"Open Soil Spectroscopy Library\" \"Open Soil Spectroscopy Library\" \"Open Soil Spectroscopy Library\" \"Open Soil Spectroscopy Library\" ...\n",
            " $ observation.ogc.schema_idn_url                              : chr  \"https://soilspectroscopy.github.io\" \"https://soilspectroscopy.github.io\" \"https://soilspectroscopy.github.io\" \"https://soilspectroscopy.github.io\" ...\n",
            " $ observation.date.begin_iso.8601_yyyy.mm.dd                  : chr  \"1996-11-01\" \"1996-11-01\" \"1996-11-01\" \"1996-11-01\" ...\n",
            " $ observation.date.end_iso.8601_yyyy.mm.dd                    : chr  \"2006-11-01\" \"2006-11-01\" \"2006-11-01\" \"2006-11-01\" ...\n",
            " $ location.address_utf8_txt                                   : chr  \"Unknown\" \"Unknown\" \"Unknown\" \"Unknown\" ...\n",
            " $ location.country_iso.3166_c                                 : chr  NA NA NA NA ...\n",
            " $ location.method_any_c                                       : chr  \"GPS\" \"GPS\" \"GPS\" \"GPS\" ...\n",
            " $ surveyor.title_utf8_txt                                     : chr  \"Tor Gunnar Vagen\" \"Tor Gunnar Vagen\" \"Tor Gunnar Vagen\" \"Tor Gunnar Vagen\" ...\n",
            " $ surveyor.contact_ietf_email                                 : chr  NA NA NA NA ...\n",
            " $ surveyor.address_utf8_txt                                   : chr  \"ICRAF, PO Box 30677, Nairobi, 00100, Kenya\" \"ICRAF, PO Box 30677, Nairobi, 00100, Kenya\" \"ICRAF, PO Box 30677, Nairobi, 00100, Kenya\" \"ICRAF, PO Box 30677, Nairobi, 00100, Kenya\" ...\n",
            " $ longitude_wgs84_dd                                          : num  36.4 36.5 37.5 37.5 35.2 ...\n",
            " $ latitude_wgs84_dd                                           : num  -6.09 -6.06 -5.34 -5.33 -11.09 ...\n",
            " $ location.error_any_m                                        : num  30 30 30 30 30 30 30 30 30 30 ...\n",
            " $ dataset.title_utf8_txt                                      : chr  \"Africa Soil Information Service (AfSIS-1)\" \"Africa Soil Information Service (AfSIS-1)\" \"Africa Soil Information Service (AfSIS-1)\" \"Africa Soil Information Service (AfSIS-1)\" ...\n",
            " $ dataset.owner_utf8_txt                                      : chr  \"the World Agroforestry Centre (ICRAF), Crop Nutrition Laboratory Services Ltd. (CROPNUTS), and Rothamsted Research (RRES)\" \"the World Agroforestry Centre (ICRAF), Crop Nutrition Laboratory Services Ltd. (CROPNUTS), and Rothamsted Research (RRES)\" \"the World Agroforestry Centre (ICRAF), Crop Nutrition Laboratory Services Ltd. (CROPNUTS), and Rothamsted Research (RRES)\" \"the World Agroforestry Centre (ICRAF), Crop Nutrition Laboratory Services Ltd. (CROPNUTS), and Rothamsted Research (RRES)\" ...\n",
            " $ dataset.code_ascii_c                                        : chr  \"AFSIS1.SSL\" \"AFSIS1.SSL\" \"AFSIS1.SSL\" \"AFSIS1.SSL\" ...\n",
            " $ dataset.address_idn_url                                     : chr  \"ICRAF, PO Box 30677, Nairobi, 00100, Kenya\" \"ICRAF, PO Box 30677, Nairobi, 00100, Kenya\" \"ICRAF, PO Box 30677, Nairobi, 00100, Kenya\" \"ICRAF, PO Box 30677, Nairobi, 00100, Kenya\" ...\n",
            " $ dataset.license.title_ascii_txt                             : chr  \"ODC Open Database License\" \"ODC Open Database License\" \"ODC Open Database License\" \"ODC Open Database License\" ...\n",
            " $ dataset.license.address_idn_url                             : chr  \"https://opendatacommons.org/licenses/odbl/\" \"https://opendatacommons.org/licenses/odbl/\" \"https://opendatacommons.org/licenses/odbl/\" \"https://opendatacommons.org/licenses/odbl/\" ...\n",
            " $ dataset.doi_idf_c                                           : chr  NA NA NA NA ...\n",
            " $ dataset.contact.name_utf8_txt                               : chr  \"Keith Shepherd\" \"Keith Shepherd\" \"Keith Shepherd\" \"Keith Shepherd\" ...\n",
            " $ dataset.contact_ietf_email                                  : chr  \"afsis.info@africasoils.net\" \"afsis.info@africasoils.net\" \"afsis.info@africasoils.net\" \"afsis.info@africasoils.net\" ...\n",
            " $ id.project_ascii_c                                          : chr  NA NA NA NA ...\n",
            " $ id.user.site_ascii_c                                        : chr  NA NA NA NA ...\n",
            " $ pedon.taxa_usda_c                                           : chr  NA NA NA NA ...\n",
            " $ pedon.completeness_usda_uint8                               : logi  NA NA NA NA NA NA ...\n",
            " $ layer.sequence_usda_uint16                                  : num  2 1 2 2 1 1 1 1 2 2 ...\n",
            " $ layer.type_usda_c                                           : chr  NA NA NA NA ...\n",
            " $ layer.field.label_any_c                                     : chr  NA NA NA NA ...\n",
            " $ layer.upper.depth_usda_cm                                   : num  20 0 20 20 0 0 0 0 20 20 ...\n",
            " $ layer.lower.depth_usda_cm                                   : num  50 20 50 50 20 20 20 20 50 50 ...\n",
            " $ horizon.designation_usda_c                                  : chr  NA NA NA NA ...\n",
            " $ horizon.designation.discontinuity_usda_c                    : int  NA NA NA NA NA NA NA NA NA NA ...\n",
            " $ layer.structure.type_usda_c                                 : logi  NA NA NA NA NA NA ...\n",
            " $ layer.structure.grade_usda_c                                : logi  NA NA NA NA NA NA ...\n",
            " $ layer.texture_usda_c                                        : chr  NA NA NA NA ...\n",
            " $ vnirmodel.code_any_c                                        : chr  NA NA NA NA ...\n",
            " $ scan_visnir.350_pcnt                                        : num  NA NA NA NA NA NA NA NA NA NA ...\n",
            " $ scan_visnir.352_pcnt                                        : num  NA NA NA NA NA NA NA NA NA NA ...\n",
            "  [list output truncated]\n"
          ]
        }
      ]
    },
    {
      "cell_type": "markdown",
      "source": [
        "## Checking available SSLs"
      ],
      "metadata": {
        "id": "mRuQB9WdESGZ"
      }
    },
    {
      "cell_type": "code",
      "source": [
        "rm.ossl %>%\n",
        "  distinct(dataset.code_ascii_c)"
      ],
      "metadata": {
        "colab": {
          "base_uri": "https://localhost:8080/",
          "height": 318
        },
        "id": "0RBlHa2MD6Fp",
        "outputId": "df34b5d7-2e81-4cf6-cad7-bc467ce23beb"
      },
      "execution_count": 10,
      "outputs": [
        {
          "output_type": "display_data",
          "data": {
            "text/plain": [
              "  dataset.code_ascii_c\n",
              "1 AFSIS1.SSL          \n",
              "2 AFSIS2.SSL          \n",
              "3 CAF.SSL             \n",
              "4 KSSL.SSL            \n",
              "5 ICRAF.ISRIC         \n",
              "6 LUCAS.SSL           \n",
              "7 NEON.SSL            "
            ],
            "text/latex": "A data.frame: 7 × 1\n\\begin{tabular}{l}\n dataset.code\\_ascii\\_c\\\\\n <chr>\\\\\n\\hline\n\t AFSIS1.SSL \\\\\n\t AFSIS2.SSL \\\\\n\t CAF.SSL    \\\\\n\t KSSL.SSL   \\\\\n\t ICRAF.ISRIC\\\\\n\t LUCAS.SSL  \\\\\n\t NEON.SSL   \\\\\n\\end{tabular}\n",
            "text/markdown": "\nA data.frame: 7 × 1\n\n| dataset.code_ascii_c &lt;chr&gt; |\n|---|\n| AFSIS1.SSL  |\n| AFSIS2.SSL  |\n| CAF.SSL     |\n| KSSL.SSL    |\n| ICRAF.ISRIC |\n| LUCAS.SSL   |\n| NEON.SSL    |\n\n",
            "text/html": [
              "<table class=\"dataframe\">\n",
              "<caption>A data.frame: 7 × 1</caption>\n",
              "<thead>\n",
              "\t<tr><th scope=col>dataset.code_ascii_c</th></tr>\n",
              "\t<tr><th scope=col>&lt;chr&gt;</th></tr>\n",
              "</thead>\n",
              "<tbody>\n",
              "\t<tr><td>AFSIS1.SSL </td></tr>\n",
              "\t<tr><td>AFSIS2.SSL </td></tr>\n",
              "\t<tr><td>CAF.SSL    </td></tr>\n",
              "\t<tr><td>KSSL.SSL   </td></tr>\n",
              "\t<tr><td>ICRAF.ISRIC</td></tr>\n",
              "\t<tr><td>LUCAS.SSL  </td></tr>\n",
              "\t<tr><td>NEON.SSL   </td></tr>\n",
              "</tbody>\n",
              "</table>\n"
            ]
          },
          "metadata": {}
        }
      ]
    },
    {
      "cell_type": "markdown",
      "source": [
        "## Checking the number of observations\n",
        "The MIR spectra contains a **mir** prefix in their columns and ranges from 600 to 4000 cm<sup>-1</sup>.\n",
        "\n",
        "SOC"
      ],
      "metadata": {
        "id": "lbS2e5mUKivJ"
      }
    },
    {
      "cell_type": "code",
      "source": [
        "rm.ossl %>%\n",
        "  group_by(dataset.code_ascii_c) %>%\n",
        "  filter(!(is.na(oc_usda.calc_wpct) | is.na(scan_mir.600_abs))) %>%\n",
        "  summarize(n_observations = n()) %>%\n",
        "  arrange(desc(n_observations))\n"
      ],
      "metadata": {
        "colab": {
          "base_uri": "https://localhost:8080/",
          "height": 286
        },
        "id": "3W0_zzu1Kn0-",
        "outputId": "d64f5192-ed8d-461a-bf91-80eb5c36e51e"
      },
      "execution_count": 17,
      "outputs": [
        {
          "output_type": "display_data",
          "data": {
            "text/plain": [
              "  dataset.code_ascii_c n_observations\n",
              "1 KSSL.SSL             73028         \n",
              "2 ICRAF.ISRIC           3916         \n",
              "3 AFSIS2.SSL             781         \n",
              "4 LUCAS.SSL              605         \n",
              "5 NEON.SSL               251         \n",
              "6 CAF.SSL                 34         "
            ],
            "text/latex": "A tibble: 6 × 2\n\\begin{tabular}{ll}\n dataset.code\\_ascii\\_c & n\\_observations\\\\\n <chr> & <int>\\\\\n\\hline\n\t KSSL.SSL    & 73028\\\\\n\t ICRAF.ISRIC &  3916\\\\\n\t AFSIS2.SSL  &   781\\\\\n\t LUCAS.SSL   &   605\\\\\n\t NEON.SSL    &   251\\\\\n\t CAF.SSL     &    34\\\\\n\\end{tabular}\n",
            "text/markdown": "\nA tibble: 6 × 2\n\n| dataset.code_ascii_c &lt;chr&gt; | n_observations &lt;int&gt; |\n|---|---|\n| KSSL.SSL    | 73028 |\n| ICRAF.ISRIC |  3916 |\n| AFSIS2.SSL  |   781 |\n| LUCAS.SSL   |   605 |\n| NEON.SSL    |   251 |\n| CAF.SSL     |    34 |\n\n",
            "text/html": [
              "<table class=\"dataframe\">\n",
              "<caption>A tibble: 6 × 2</caption>\n",
              "<thead>\n",
              "\t<tr><th scope=col>dataset.code_ascii_c</th><th scope=col>n_observations</th></tr>\n",
              "\t<tr><th scope=col>&lt;chr&gt;</th><th scope=col>&lt;int&gt;</th></tr>\n",
              "</thead>\n",
              "<tbody>\n",
              "\t<tr><td>KSSL.SSL   </td><td>73028</td></tr>\n",
              "\t<tr><td>ICRAF.ISRIC</td><td> 3916</td></tr>\n",
              "\t<tr><td>AFSIS2.SSL </td><td>  781</td></tr>\n",
              "\t<tr><td>LUCAS.SSL  </td><td>  605</td></tr>\n",
              "\t<tr><td>NEON.SSL   </td><td>  251</td></tr>\n",
              "\t<tr><td>CAF.SSL    </td><td>   34</td></tr>\n",
              "</tbody>\n",
              "</table>\n"
            ]
          },
          "metadata": {}
        }
      ]
    },
    {
      "cell_type": "markdown",
      "source": [
        "pH H20"
      ],
      "metadata": {
        "id": "LGVaz7ocLjqI"
      }
    },
    {
      "cell_type": "code",
      "source": [
        "rm.ossl %>%\n",
        "  group_by(dataset.code_ascii_c) %>%\n",
        "  filter(!(is.na(ph.h2o_usda.4c1_index) | is.na(scan_mir.600_abs))) %>%\n",
        "  summarize(n_observations = n()) %>%\n",
        "  arrange(desc(n_observations))"
      ],
      "metadata": {
        "colab": {
          "base_uri": "https://localhost:8080/",
          "height": 318
        },
        "id": "AbOcK93jLlFk",
        "outputId": "3436605f-3f73-458a-e030-657e3b775d53"
      },
      "execution_count": 19,
      "outputs": [
        {
          "output_type": "display_data",
          "data": {
            "text/plain": [
              "  dataset.code_ascii_c n_observations\n",
              "1 KSSL.SSL             54790         \n",
              "2 ICRAF.ISRIC           3992         \n",
              "3 AFSIS1.SSL            1904         \n",
              "4 AFSIS2.SSL             773         \n",
              "5 LUCAS.SSL              605         \n",
              "6 CAF.SSL                534         \n",
              "7 NEON.SSL               303         "
            ],
            "text/latex": "A tibble: 7 × 2\n\\begin{tabular}{ll}\n dataset.code\\_ascii\\_c & n\\_observations\\\\\n <chr> & <int>\\\\\n\\hline\n\t KSSL.SSL    & 54790\\\\\n\t ICRAF.ISRIC &  3992\\\\\n\t AFSIS1.SSL  &  1904\\\\\n\t AFSIS2.SSL  &   773\\\\\n\t LUCAS.SSL   &   605\\\\\n\t CAF.SSL     &   534\\\\\n\t NEON.SSL    &   303\\\\\n\\end{tabular}\n",
            "text/markdown": "\nA tibble: 7 × 2\n\n| dataset.code_ascii_c &lt;chr&gt; | n_observations &lt;int&gt; |\n|---|---|\n| KSSL.SSL    | 54790 |\n| ICRAF.ISRIC |  3992 |\n| AFSIS1.SSL  |  1904 |\n| AFSIS2.SSL  |   773 |\n| LUCAS.SSL   |   605 |\n| CAF.SSL     |   534 |\n| NEON.SSL    |   303 |\n\n",
            "text/html": [
              "<table class=\"dataframe\">\n",
              "<caption>A tibble: 7 × 2</caption>\n",
              "<thead>\n",
              "\t<tr><th scope=col>dataset.code_ascii_c</th><th scope=col>n_observations</th></tr>\n",
              "\t<tr><th scope=col>&lt;chr&gt;</th><th scope=col>&lt;int&gt;</th></tr>\n",
              "</thead>\n",
              "<tbody>\n",
              "\t<tr><td>KSSL.SSL   </td><td>54790</td></tr>\n",
              "\t<tr><td>ICRAF.ISRIC</td><td> 3992</td></tr>\n",
              "\t<tr><td>AFSIS1.SSL </td><td> 1904</td></tr>\n",
              "\t<tr><td>AFSIS2.SSL </td><td>  773</td></tr>\n",
              "\t<tr><td>LUCAS.SSL  </td><td>  605</td></tr>\n",
              "\t<tr><td>CAF.SSL    </td><td>  534</td></tr>\n",
              "\t<tr><td>NEON.SSL   </td><td>  303</td></tr>\n",
              "</tbody>\n",
              "</table>\n"
            ]
          },
          "metadata": {}
        }
      ]
    },
    {
      "cell_type": "markdown",
      "source": [
        "Clay"
      ],
      "metadata": {
        "id": "_IMLBucGLlVW"
      }
    },
    {
      "cell_type": "code",
      "source": [
        "rm.ossl %>%\n",
        "  group_by(dataset.code_ascii_c) %>%\n",
        "  filter(!(is.na(clay.tot_usda.3a1_wpct) | is.na(scan_mir.600_abs))) %>%\n",
        "  summarize(n_observations = n()) %>%\n",
        "  arrange(desc(n_observations))"
      ],
      "metadata": {
        "colab": {
          "base_uri": "https://localhost:8080/",
          "height": 255
        },
        "id": "J9gdbY4hL999",
        "outputId": "4dbfc85d-d48e-4647-f569-3388aa290b36"
      },
      "execution_count": 20,
      "outputs": [
        {
          "output_type": "display_data",
          "data": {
            "text/plain": [
              "  dataset.code_ascii_c n_observations\n",
              "1 KSSL.SSL             51349         \n",
              "2 ICRAF.ISRIC           3942         \n",
              "3 LUCAS.SSL              605         \n",
              "4 CAF.SSL                562         \n",
              "5 NEON.SSL               293         "
            ],
            "text/latex": "A tibble: 5 × 2\n\\begin{tabular}{ll}\n dataset.code\\_ascii\\_c & n\\_observations\\\\\n <chr> & <int>\\\\\n\\hline\n\t KSSL.SSL    & 51349\\\\\n\t ICRAF.ISRIC &  3942\\\\\n\t LUCAS.SSL   &   605\\\\\n\t CAF.SSL     &   562\\\\\n\t NEON.SSL    &   293\\\\\n\\end{tabular}\n",
            "text/markdown": "\nA tibble: 5 × 2\n\n| dataset.code_ascii_c &lt;chr&gt; | n_observations &lt;int&gt; |\n|---|---|\n| KSSL.SSL    | 51349 |\n| ICRAF.ISRIC |  3942 |\n| LUCAS.SSL   |   605 |\n| CAF.SSL     |   562 |\n| NEON.SSL    |   293 |\n\n",
            "text/html": [
              "<table class=\"dataframe\">\n",
              "<caption>A tibble: 5 × 2</caption>\n",
              "<thead>\n",
              "\t<tr><th scope=col>dataset.code_ascii_c</th><th scope=col>n_observations</th></tr>\n",
              "\t<tr><th scope=col>&lt;chr&gt;</th><th scope=col>&lt;int&gt;</th></tr>\n",
              "</thead>\n",
              "<tbody>\n",
              "\t<tr><td>KSSL.SSL   </td><td>51349</td></tr>\n",
              "\t<tr><td>ICRAF.ISRIC</td><td> 3942</td></tr>\n",
              "\t<tr><td>LUCAS.SSL  </td><td>  605</td></tr>\n",
              "\t<tr><td>CAF.SSL    </td><td>  562</td></tr>\n",
              "\t<tr><td>NEON.SSL   </td><td>  293</td></tr>\n",
              "</tbody>\n",
              "</table>\n"
            ]
          },
          "metadata": {}
        }
      ]
    },
    {
      "cell_type": "markdown",
      "source": [
        "# Exploring the CAF.SSL"
      ],
      "metadata": {
        "id": "C9L5SGXYEWPY"
      }
    },
    {
      "cell_type": "code",
      "source": [
        "caf.ssl <- rm.ossl %>%\n",
        "  filter(dataset.code_ascii_c == \"CAF.SSL\")\n",
        "dim(caf.ssl)"
      ],
      "metadata": {
        "colab": {
          "base_uri": "https://localhost:8080/",
          "height": 34
        },
        "id": "Yi_TMYiwIlgu",
        "outputId": "07358248-a49f-4ef5-f493-9d80f0633702"
      },
      "execution_count": 21,
      "outputs": [
        {
          "output_type": "display_data",
          "data": {
            "text/plain": [
              "[1] 1903 2962"
            ],
            "text/latex": "\\begin{enumerate*}\n\\item 1903\n\\item 2962\n\\end{enumerate*}\n",
            "text/markdown": "1. 1903\n2. 2962\n\n\n",
            "text/html": [
              "<style>\n",
              ".list-inline {list-style: none; margin:0; padding: 0}\n",
              ".list-inline>li {display: inline-block}\n",
              ".list-inline>li:not(:last-child)::after {content: \"\\00b7\"; padding: 0 .5ex}\n",
              "</style>\n",
              "<ol class=list-inline><li>1903</li><li>2962</li></ol>\n"
            ]
          },
          "metadata": {}
        }
      ]
    },
    {
      "cell_type": "markdown",
      "source": [
        "The `grep` comand is used to find colums with **mir** prefix, and the first column is also selected as ID."
      ],
      "metadata": {
        "id": "02tQpGMvI69f"
      }
    },
    {
      "cell_type": "code",
      "source": [
        "caf.ssl.info <- names(caf.ssl)\n",
        "paste(\"There are\", length(grep(\"mir\", caf.ssl.info)), \"colums with mir prefix\")\n",
        "\n",
        "caf.ssl.mir <- caf.ssl[,c(1, grep(\"mir\", caf.ssl.info))]\n",
        "head(caf.ssl.mir)"
      ],
      "metadata": {
        "colab": {
          "base_uri": "https://localhost:8080/",
          "height": 324
        },
        "id": "xdofPzuyI-k8",
        "outputId": "c989ece4-da16-4f0b-baf6-6c4548926925"
      },
      "execution_count": 26,
      "outputs": [
        {
          "output_type": "display_data",
          "data": {
            "text/plain": [
              "[1] \"There are 1702 colums with mir prefix\""
            ],
            "text/latex": "'There are 1702 colums with mir prefix'",
            "text/markdown": "'There are 1702 colums with mir prefix'",
            "text/html": [
              "'There are 1702 colums with mir prefix'"
            ]
          },
          "metadata": {}
        },
        {
          "output_type": "display_data",
          "data": {
            "text/plain": [
              "  id.layer_uuid_c                  mirmodel.code_any_c     scan_mir.600_abs\n",
              "1 cf0ec86202e73bc341dc272fe3a62e16 Bruker_Vertex_70.HTS.XT 1683            \n",
              "2 693399ddcd6697549570449e3797b6fd Bruker_Vertex_70.HTS.XT 1612            \n",
              "3 d9cc50e917480fa6296fefcc3f1bf765 Bruker_Vertex_70.HTS.XT 1661            \n",
              "4 16e206585bb781899ba15b8997689794 Bruker_Vertex_70.HTS.XT 1755            \n",
              "5 b2e15c8cd69388e0b2f3d36d17656866 Bruker_Vertex_70.HTS.XT 1755            \n",
              "6 ec5f152fdab7e8388d49f48f5bf200b4 Bruker_Vertex_70.HTS.XT 1773            \n",
              "  scan_mir.602_abs scan_mir.604_abs scan_mir.606_abs scan_mir.608_abs\n",
              "1 1666             1643             1632             1628            \n",
              "2 1597             1591             1589             1583            \n",
              "3 1662             1660             1647             1634            \n",
              "4 1759             1754             1744             1729            \n",
              "5 1745             1745             1744             1737            \n",
              "6 1770             1767             1772             1781            \n",
              "  scan_mir.610_abs scan_mir.612_abs scan_mir.614_abs ⋯ scan_mir.3982_abs\n",
              "1 1626             1625             1622             ⋯ 254              \n",
              "2 1574             1563             1550             ⋯ 237              \n",
              "3 1620             1600             1580             ⋯ 257              \n",
              "4 1709             1689             1670             ⋯ 287              \n",
              "5 1728             1723             1727             ⋯ 302              \n",
              "6 1786             1790             1798             ⋯ 342              \n",
              "  scan_mir.3984_abs scan_mir.3986_abs scan_mir.3988_abs scan_mir.3990_abs\n",
              "1 254               253               253               252              \n",
              "2 237               237               236               236              \n",
              "3 257               256               256               256              \n",
              "4 287               286               286               285              \n",
              "5 302               302               301               301              \n",
              "6 341               340               339               338              \n",
              "  scan_mir.3992_abs scan_mir.3994_abs scan_mir.3996_abs scan_mir.3998_abs\n",
              "1 251               251               252               253              \n",
              "2 236               235               235               235              \n",
              "3 255               255               255               254              \n",
              "4 285               284               284               283              \n",
              "5 301               300               300               299              \n",
              "6 338               337               336               336              \n",
              "  scan_mir.4000_abs\n",
              "1 253              \n",
              "2 235              \n",
              "3 254              \n",
              "4 283              \n",
              "5 299              \n",
              "6 335              "
            ],
            "text/latex": "A data.frame: 6 × 1703\n\\begin{tabular}{r|lllllllllllllllllllll}\n  & id.layer\\_uuid\\_c & mirmodel.code\\_any\\_c & scan\\_mir.600\\_abs & scan\\_mir.602\\_abs & scan\\_mir.604\\_abs & scan\\_mir.606\\_abs & scan\\_mir.608\\_abs & scan\\_mir.610\\_abs & scan\\_mir.612\\_abs & scan\\_mir.614\\_abs & ⋯ & scan\\_mir.3982\\_abs & scan\\_mir.3984\\_abs & scan\\_mir.3986\\_abs & scan\\_mir.3988\\_abs & scan\\_mir.3990\\_abs & scan\\_mir.3992\\_abs & scan\\_mir.3994\\_abs & scan\\_mir.3996\\_abs & scan\\_mir.3998\\_abs & scan\\_mir.4000\\_abs\\\\\n  & <chr> & <chr> & <dbl> & <dbl> & <dbl> & <dbl> & <dbl> & <dbl> & <dbl> & <dbl> & ⋯ & <dbl> & <dbl> & <dbl> & <dbl> & <dbl> & <dbl> & <dbl> & <dbl> & <dbl> & <dbl>\\\\\n\\hline\n\t1 & cf0ec86202e73bc341dc272fe3a62e16 & Bruker\\_Vertex\\_70.HTS.XT & 1683 & 1666 & 1643 & 1632 & 1628 & 1626 & 1625 & 1622 & ⋯ & 254 & 254 & 253 & 253 & 252 & 251 & 251 & 252 & 253 & 253\\\\\n\t2 & 693399ddcd6697549570449e3797b6fd & Bruker\\_Vertex\\_70.HTS.XT & 1612 & 1597 & 1591 & 1589 & 1583 & 1574 & 1563 & 1550 & ⋯ & 237 & 237 & 237 & 236 & 236 & 236 & 235 & 235 & 235 & 235\\\\\n\t3 & d9cc50e917480fa6296fefcc3f1bf765 & Bruker\\_Vertex\\_70.HTS.XT & 1661 & 1662 & 1660 & 1647 & 1634 & 1620 & 1600 & 1580 & ⋯ & 257 & 257 & 256 & 256 & 256 & 255 & 255 & 255 & 254 & 254\\\\\n\t4 & 16e206585bb781899ba15b8997689794 & Bruker\\_Vertex\\_70.HTS.XT & 1755 & 1759 & 1754 & 1744 & 1729 & 1709 & 1689 & 1670 & ⋯ & 287 & 287 & 286 & 286 & 285 & 285 & 284 & 284 & 283 & 283\\\\\n\t5 & b2e15c8cd69388e0b2f3d36d17656866 & Bruker\\_Vertex\\_70.HTS.XT & 1755 & 1745 & 1745 & 1744 & 1737 & 1728 & 1723 & 1727 & ⋯ & 302 & 302 & 302 & 301 & 301 & 301 & 300 & 300 & 299 & 299\\\\\n\t6 & ec5f152fdab7e8388d49f48f5bf200b4 & Bruker\\_Vertex\\_70.HTS.XT & 1773 & 1770 & 1767 & 1772 & 1781 & 1786 & 1790 & 1798 & ⋯ & 342 & 341 & 340 & 339 & 338 & 338 & 337 & 336 & 336 & 335\\\\\n\\end{tabular}\n",
            "text/markdown": "\nA data.frame: 6 × 1703\n\n| <!--/--> | id.layer_uuid_c &lt;chr&gt; | mirmodel.code_any_c &lt;chr&gt; | scan_mir.600_abs &lt;dbl&gt; | scan_mir.602_abs &lt;dbl&gt; | scan_mir.604_abs &lt;dbl&gt; | scan_mir.606_abs &lt;dbl&gt; | scan_mir.608_abs &lt;dbl&gt; | scan_mir.610_abs &lt;dbl&gt; | scan_mir.612_abs &lt;dbl&gt; | scan_mir.614_abs &lt;dbl&gt; | ⋯ ⋯ | scan_mir.3982_abs &lt;dbl&gt; | scan_mir.3984_abs &lt;dbl&gt; | scan_mir.3986_abs &lt;dbl&gt; | scan_mir.3988_abs &lt;dbl&gt; | scan_mir.3990_abs &lt;dbl&gt; | scan_mir.3992_abs &lt;dbl&gt; | scan_mir.3994_abs &lt;dbl&gt; | scan_mir.3996_abs &lt;dbl&gt; | scan_mir.3998_abs &lt;dbl&gt; | scan_mir.4000_abs &lt;dbl&gt; |\n|---|---|---|---|---|---|---|---|---|---|---|---|---|---|---|---|---|---|---|---|---|---|\n| 1 | cf0ec86202e73bc341dc272fe3a62e16 | Bruker_Vertex_70.HTS.XT | 1683 | 1666 | 1643 | 1632 | 1628 | 1626 | 1625 | 1622 | ⋯ | 254 | 254 | 253 | 253 | 252 | 251 | 251 | 252 | 253 | 253 |\n| 2 | 693399ddcd6697549570449e3797b6fd | Bruker_Vertex_70.HTS.XT | 1612 | 1597 | 1591 | 1589 | 1583 | 1574 | 1563 | 1550 | ⋯ | 237 | 237 | 237 | 236 | 236 | 236 | 235 | 235 | 235 | 235 |\n| 3 | d9cc50e917480fa6296fefcc3f1bf765 | Bruker_Vertex_70.HTS.XT | 1661 | 1662 | 1660 | 1647 | 1634 | 1620 | 1600 | 1580 | ⋯ | 257 | 257 | 256 | 256 | 256 | 255 | 255 | 255 | 254 | 254 |\n| 4 | 16e206585bb781899ba15b8997689794 | Bruker_Vertex_70.HTS.XT | 1755 | 1759 | 1754 | 1744 | 1729 | 1709 | 1689 | 1670 | ⋯ | 287 | 287 | 286 | 286 | 285 | 285 | 284 | 284 | 283 | 283 |\n| 5 | b2e15c8cd69388e0b2f3d36d17656866 | Bruker_Vertex_70.HTS.XT | 1755 | 1745 | 1745 | 1744 | 1737 | 1728 | 1723 | 1727 | ⋯ | 302 | 302 | 302 | 301 | 301 | 301 | 300 | 300 | 299 | 299 |\n| 6 | ec5f152fdab7e8388d49f48f5bf200b4 | Bruker_Vertex_70.HTS.XT | 1773 | 1770 | 1767 | 1772 | 1781 | 1786 | 1790 | 1798 | ⋯ | 342 | 341 | 340 | 339 | 338 | 338 | 337 | 336 | 336 | 335 |\n\n",
            "text/html": [
              "<table class=\"dataframe\">\n",
              "<caption>A data.frame: 6 × 1703</caption>\n",
              "<thead>\n",
              "\t<tr><th></th><th scope=col>id.layer_uuid_c</th><th scope=col>mirmodel.code_any_c</th><th scope=col>scan_mir.600_abs</th><th scope=col>scan_mir.602_abs</th><th scope=col>scan_mir.604_abs</th><th scope=col>scan_mir.606_abs</th><th scope=col>scan_mir.608_abs</th><th scope=col>scan_mir.610_abs</th><th scope=col>scan_mir.612_abs</th><th scope=col>scan_mir.614_abs</th><th scope=col>⋯</th><th scope=col>scan_mir.3982_abs</th><th scope=col>scan_mir.3984_abs</th><th scope=col>scan_mir.3986_abs</th><th scope=col>scan_mir.3988_abs</th><th scope=col>scan_mir.3990_abs</th><th scope=col>scan_mir.3992_abs</th><th scope=col>scan_mir.3994_abs</th><th scope=col>scan_mir.3996_abs</th><th scope=col>scan_mir.3998_abs</th><th scope=col>scan_mir.4000_abs</th></tr>\n",
              "\t<tr><th></th><th scope=col>&lt;chr&gt;</th><th scope=col>&lt;chr&gt;</th><th scope=col>&lt;dbl&gt;</th><th scope=col>&lt;dbl&gt;</th><th scope=col>&lt;dbl&gt;</th><th scope=col>&lt;dbl&gt;</th><th scope=col>&lt;dbl&gt;</th><th scope=col>&lt;dbl&gt;</th><th scope=col>&lt;dbl&gt;</th><th scope=col>&lt;dbl&gt;</th><th scope=col>⋯</th><th scope=col>&lt;dbl&gt;</th><th scope=col>&lt;dbl&gt;</th><th scope=col>&lt;dbl&gt;</th><th scope=col>&lt;dbl&gt;</th><th scope=col>&lt;dbl&gt;</th><th scope=col>&lt;dbl&gt;</th><th scope=col>&lt;dbl&gt;</th><th scope=col>&lt;dbl&gt;</th><th scope=col>&lt;dbl&gt;</th><th scope=col>&lt;dbl&gt;</th></tr>\n",
              "</thead>\n",
              "<tbody>\n",
              "\t<tr><th scope=row>1</th><td>cf0ec86202e73bc341dc272fe3a62e16</td><td>Bruker_Vertex_70.HTS.XT</td><td>1683</td><td>1666</td><td>1643</td><td>1632</td><td>1628</td><td>1626</td><td>1625</td><td>1622</td><td>⋯</td><td>254</td><td>254</td><td>253</td><td>253</td><td>252</td><td>251</td><td>251</td><td>252</td><td>253</td><td>253</td></tr>\n",
              "\t<tr><th scope=row>2</th><td>693399ddcd6697549570449e3797b6fd</td><td>Bruker_Vertex_70.HTS.XT</td><td>1612</td><td>1597</td><td>1591</td><td>1589</td><td>1583</td><td>1574</td><td>1563</td><td>1550</td><td>⋯</td><td>237</td><td>237</td><td>237</td><td>236</td><td>236</td><td>236</td><td>235</td><td>235</td><td>235</td><td>235</td></tr>\n",
              "\t<tr><th scope=row>3</th><td>d9cc50e917480fa6296fefcc3f1bf765</td><td>Bruker_Vertex_70.HTS.XT</td><td>1661</td><td>1662</td><td>1660</td><td>1647</td><td>1634</td><td>1620</td><td>1600</td><td>1580</td><td>⋯</td><td>257</td><td>257</td><td>256</td><td>256</td><td>256</td><td>255</td><td>255</td><td>255</td><td>254</td><td>254</td></tr>\n",
              "\t<tr><th scope=row>4</th><td>16e206585bb781899ba15b8997689794</td><td>Bruker_Vertex_70.HTS.XT</td><td>1755</td><td>1759</td><td>1754</td><td>1744</td><td>1729</td><td>1709</td><td>1689</td><td>1670</td><td>⋯</td><td>287</td><td>287</td><td>286</td><td>286</td><td>285</td><td>285</td><td>284</td><td>284</td><td>283</td><td>283</td></tr>\n",
              "\t<tr><th scope=row>5</th><td>b2e15c8cd69388e0b2f3d36d17656866</td><td>Bruker_Vertex_70.HTS.XT</td><td>1755</td><td>1745</td><td>1745</td><td>1744</td><td>1737</td><td>1728</td><td>1723</td><td>1727</td><td>⋯</td><td>302</td><td>302</td><td>302</td><td>301</td><td>301</td><td>301</td><td>300</td><td>300</td><td>299</td><td>299</td></tr>\n",
              "\t<tr><th scope=row>6</th><td>ec5f152fdab7e8388d49f48f5bf200b4</td><td>Bruker_Vertex_70.HTS.XT</td><td>1773</td><td>1770</td><td>1767</td><td>1772</td><td>1781</td><td>1786</td><td>1790</td><td>1798</td><td>⋯</td><td>342</td><td>341</td><td>340</td><td>339</td><td>338</td><td>338</td><td>337</td><td>336</td><td>336</td><td>335</td></tr>\n",
              "</tbody>\n",
              "</table>\n"
            ]
          },
          "metadata": {}
        }
      ]
    }
  ]
}