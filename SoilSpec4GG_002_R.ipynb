{
  "nbformat": 4,
  "nbformat_minor": 0,
  "metadata": {
    "colab": {
      "name": "SoilSpec4GG_002.R",
      "provenance": [],
      "collapsed_sections": [],
      "toc_visible": true,
      "authorship_tag": "ABX9TyP/b56vf93kUnnHOM+W4K3n",
      "include_colab_link": true
    },
    "kernelspec": {
      "name": "ir",
      "display_name": "R"
    },
    "language_info": {
      "name": "R"
    }
  },
  "cells": [
    {
      "cell_type": "markdown",
      "metadata": {
        "id": "view-in-github",
        "colab_type": "text"
      },
      "source": [
        "<a href=\"https://colab.research.google.com/github/zecojls/SoilSpec4GG_GoogleColab/blob/main/SoilSpec4GG_002_R.ipynb\" target=\"_parent\"><img src=\"https://colab.research.google.com/assets/colab-badge.svg\" alt=\"Open In Colab\"/></a>"
      ]
    },
    {
      "cell_type": "markdown",
      "source": [
        "# Initial setup and packages"
      ],
      "metadata": {
        "id": "DtFS-P3EozL4"
      }
    },
    {
      "cell_type": "markdown",
      "source": [
        "## Installing packages\n",
        "NOTE: the packages must be reinstalled every session"
      ],
      "metadata": {
        "id": "1aL2YDU_no-1"
      }
    },
    {
      "cell_type": "code",
      "source": [
        "install.packages(\"prospectr\")"
      ],
      "metadata": {
        "colab": {
          "base_uri": "https://localhost:8080/"
        },
        "id": "45avB6bSn5kl",
        "outputId": "2c01070e-5c22-4759-c5db-975beb038fb3"
      },
      "execution_count": 6,
      "outputs": [
        {
          "output_type": "stream",
          "name": "stderr",
          "text": [
            "Installing package into ‘/usr/local/lib/R/site-library’\n",
            "(as ‘lib’ is unspecified)\n",
            "\n"
          ]
        }
      ]
    },
    {
      "cell_type": "markdown",
      "source": [
        "## Loading packages"
      ],
      "metadata": {
        "id": "cf0Ii2npn9gE"
      }
    },
    {
      "cell_type": "code",
      "execution_count": 7,
      "metadata": {
        "colab": {
          "base_uri": "https://localhost:8080/"
        },
        "id": "_wn9cXgTnbse",
        "outputId": "291b0d72-c291-4a10-92ea-794f9748b9cf"
      },
      "outputs": [
        {
          "output_type": "stream",
          "name": "stderr",
          "text": [
            "Warning message in system(\"timedatectl\", intern = TRUE):\n",
            "“running command 'timedatectl' had status 1”\n",
            "── \u001b[1mAttaching packages\u001b[22m ─────────────────────────────────────── tidyverse 1.3.1 ──\n",
            "\n",
            "\u001b[32m✔\u001b[39m \u001b[34mggplot2\u001b[39m 3.3.5     \u001b[32m✔\u001b[39m \u001b[34mpurrr  \u001b[39m 0.3.4\n",
            "\u001b[32m✔\u001b[39m \u001b[34mtibble \u001b[39m 3.1.6     \u001b[32m✔\u001b[39m \u001b[34mdplyr  \u001b[39m 1.0.7\n",
            "\u001b[32m✔\u001b[39m \u001b[34mtidyr  \u001b[39m 1.1.4     \u001b[32m✔\u001b[39m \u001b[34mstringr\u001b[39m 1.4.0\n",
            "\u001b[32m✔\u001b[39m \u001b[34mreadr  \u001b[39m 2.1.1     \u001b[32m✔\u001b[39m \u001b[34mforcats\u001b[39m 0.5.1\n",
            "\n",
            "── \u001b[1mConflicts\u001b[22m ────────────────────────────────────────── tidyverse_conflicts() ──\n",
            "\u001b[31m✖\u001b[39m \u001b[34mdplyr\u001b[39m::\u001b[32mfilter()\u001b[39m masks \u001b[34mstats\u001b[39m::filter()\n",
            "\u001b[31m✖\u001b[39m \u001b[34mdplyr\u001b[39m::\u001b[32mlag()\u001b[39m    masks \u001b[34mstats\u001b[39m::lag()\n",
            "\n",
            "prospectr version 0.2.2 -- 'flawil'\n",
            "\n",
            "check the github repository at: http://github.com/l-ramirez-lopez/prospectr\n",
            "\n"
          ]
        }
      ],
      "source": [
        "library(tidyverse)\n",
        "library(prospectr)"
      ]
    },
    {
      "cell_type": "markdown",
      "source": [
        "# Loading the full OSSL dataset"
      ],
      "metadata": {
        "id": "jXu85eIHvxQN"
      }
    },
    {
      "cell_type": "markdown",
      "source": [
        "Loading the full OSSL data from S3 bucket. It takes about 25 secs."
      ],
      "metadata": {
        "id": "FWdWZAtTpCYF"
      }
    },
    {
      "cell_type": "code",
      "source": [
        "rm.ossl = readRDS(url(\"http://s3.us-east-1.wasabisys.com/soilspectroscopy/ossl_import/rm.ossl_v1.rds\", \"rb\"))\n",
        "dim(rm.ossl)"
      ],
      "metadata": {
        "colab": {
          "base_uri": "https://localhost:8080/",
          "height": 34
        },
        "id": "qSekBH5KpGDu",
        "outputId": "de49dc63-e0cd-47df-c3d3-8810503c5d71"
      },
      "execution_count": 8,
      "outputs": [
        {
          "output_type": "display_data",
          "data": {
            "text/plain": [
              "[1] 152146   2962"
            ],
            "text/latex": "\\begin{enumerate*}\n\\item 152146\n\\item 2962\n\\end{enumerate*}\n",
            "text/markdown": "1. 152146\n2. 2962\n\n\n",
            "text/html": [
              "<style>\n",
              ".list-inline {list-style: none; margin:0; padding: 0}\n",
              ".list-inline>li {display: inline-block}\n",
              ".list-inline>li:not(:last-child)::after {content: \"\\00b7\"; padding: 0 .5ex}\n",
              "</style>\n",
              "<ol class=list-inline><li>152146</li><li>2962</li></ol>\n"
            ]
          },
          "metadata": {}
        }
      ]
    },
    {
      "cell_type": "markdown",
      "source": [
        "## Cheking object class and internal data"
      ],
      "metadata": {
        "id": "pXFJMuqYHpIM"
      }
    },
    {
      "cell_type": "code",
      "source": [
        "str(rm.ossl)"
      ],
      "metadata": {
        "colab": {
          "base_uri": "https://localhost:8080/"
        },
        "id": "51QBmIcRDl47",
        "outputId": "2a8ae58e-1828-4a5c-ae9c-db460b0aa132"
      },
      "execution_count": 9,
      "outputs": [
        {
          "output_type": "stream",
          "name": "stdout",
          "text": [
            "'data.frame':\t152146 obs. of  2962 variables:\n",
            " $ id.layer_uuid_c                                             : chr  \"bd934b2680a2478c8a8ce1913ae79172\" \"ff03863683a192953930bcb2a874b527\" \"1fe42f85d1cb818e99d190c80686063a\" \"8ea0ca98a9a8002ad7e713616d53ed86\" ...\n",
            " $ id.layer_local_c                                            : chr  \"icr006475\" \"icr006586\" \"icr007929\" \"icr008008\" ...\n",
            " $ sample.doi_idf_c                                            : chr  \"10.1016/j.geodrs.2015.06.002\" \"10.1016/j.geodrs.2015.06.002\" \"10.1016/j.geodrs.2015.06.002\" \"10.1016/j.geodrs.2015.06.002\" ...\n",
            " $ sample.contact.name_utf8_txt                                : chr  \"Keith Shepherd\" \"Keith Shepherd\" \"Keith Shepherd\" \"Keith Shepherd\" ...\n",
            " $ sample.contact.email_ietf_email                             : chr  \"afsis.info@africasoils.net\" \"afsis.info@africasoils.net\" \"afsis.info@africasoils.net\" \"afsis.info@africasoils.net\" ...\n",
            " $ acid.tea_usda4b2_cmolkg                                     : num  NA NA NA NA NA NA NA NA NA NA ...\n",
            " $ al.dith_usda.4g1_wpct                                       : num  NA NA NA NA NA NA NA NA NA NA ...\n",
            " $ al.kcl_usda.4b3_cmolkg                                      : num  2.56 0.59 0.19 0.48 1.05 ...\n",
            " $ al.ox_usda.4g2_wpct                                         : num  NA NA NA NA NA NA NA NA NA NA ...\n",
            " $ bsat_usda.4b4_wpct                                          : num  NA NA NA NA NA NA NA NA NA NA ...\n",
            " $ bd.clod_usda.3b1_gcm3                                       : num  NA NA NA NA NA NA NA NA NA NA ...\n",
            " $ bd.od_usda.3b2_gcm3                                         : num  NA NA NA NA NA NA NA NA NA NA ...\n",
            " $ ca.ext_usda.4b1_cmolkg                                      : num  NA NA NA NA NA NA NA NA NA NA ...\n",
            " $ c.tot_usda.4h2_wpct                                         : num  NA NA NA NA NA NA NA NA NA NA ...\n",
            " $ caco3_usda.4e1_wpct                                         : num  NA NA NA NA NA NA NA NA NA NA ...\n",
            " $ cec.ext_usda.4b1_cmolkg                                     : num  NA NA NA NA NA NA NA NA NA NA ...\n",
            " $ clay.tot_usda.3a1_wpct                                      : num  NA NA NA NA NA NA NA NA NA NA ...\n",
            " $ gyp_usda.4e2_wpct                                           : num  NA NA NA NA NA NA NA NA NA NA ...\n",
            " $ ecec_usda.4b4_cmolkg                                        : num  NA NA NA NA NA NA NA NA NA NA ...\n",
            " $ ec.w_usda.4f1_dsm                                           : num  0.053 0.193 0.305 0.053 0.032 0.055 0.131 0.099 0.029 0.212 ...\n",
            " $ oc_usda.calc_wpct                                           : num  NA NA NA NA NA NA NA NA NA NA ...\n",
            " $ fe.dith_usda.4g1_wpct                                       : num  NA NA NA NA NA NA NA NA NA NA ...\n",
            " $ fe.kcl_usda.4b3_mgkg                                        : num  NA NA NA NA NA NA NA NA NA NA ...\n",
            " $ fe.ox_usda.4g2_wpct                                         : num  NA NA NA NA NA NA NA NA NA NA ...\n",
            " $ mg.ext_usda.4b1_cmolkg                                      : num  NA NA NA NA NA NA NA NA NA NA ...\n",
            " $ n.tot_usda.4h2_wpct                                         : num  NA NA NA NA NA NA NA NA NA NA ...\n",
            " $ ph.kcl_usda.4c1_index                                       : num  NA NA NA NA NA NA NA NA NA NA ...\n",
            " $ ph.h2o_usda.4c1_index                                       : num  4.68 7.06 7.11 5.65 5.5 ...\n",
            " $ ph.cacl2_usda.4c1_index                                     : num  NA NA NA NA NA NA NA NA NA NA ...\n",
            " $ ph.naf_usda.4c1_index                                       : num  NA NA NA NA NA NA NA NA NA NA ...\n",
            " $ p.ext_usda.4d6_mgkg                                         : num  4.5 12.51 21.09 109.2 3.96 ...\n",
            " $ p.olsn_usda.4d5_mgkg                                        : num  NA NA NA NA NA NA NA NA NA NA ...\n",
            " $ k.ext_usda.4b1_cmolkg                                       : num  NA NA NA NA NA NA NA NA NA NA ...\n",
            " $ sand.tot_usda.3a1_wpct                                      : num  NA NA NA NA NA NA NA NA NA NA ...\n",
            " $ wpg2_usda.3a2_wpct                                          : num  NA NA NA NA NA NA NA NA NA NA ...\n",
            " $ silt.tot_usda.3a1_wpct                                      : num  NA NA NA NA NA NA NA NA NA NA ...\n",
            " $ na.ext_usda.4b1_cmolkg                                      : num  NA NA NA NA NA NA NA NA NA NA ...\n",
            " $ s.tot_usda.4h2_wpct                                         : num  NA NA NA NA NA NA NA NA NA NA ...\n",
            " $ sum.bases_4b4b2a_cmolkg                                     : num  NA NA NA NA NA NA NA NA NA NA ...\n",
            " $ wr.33kbar_usda.3c1_wpct                                     : num  NA NA NA NA NA NA NA NA NA NA ...\n",
            " $ wr.1500kbar_usda.3c2_wpct                                   : num  NA NA NA NA NA NA NA NA NA NA ...\n",
            " $ al.meh3_usda.4d6_wpct                                       : num  NA NA NA NA NA NA NA NA NA NA ...\n",
            " $ as.meh3_usda.4d6_mgkg                                       : num  NA NA NA NA NA NA NA NA NA NA ...\n",
            " $ ba.meh3_usda.4d6_mgkg                                       : num  NA NA NA NA NA NA NA NA NA NA ...\n",
            " $ ca.meh3_usda.4d6_mgkg                                       : num  207 1665 2518 734 262 ...\n",
            " $ cd.meh3_usda.4d6_wpct                                       : num  NA NA NA NA NA NA NA NA NA NA ...\n",
            " $ co.meh3_usda.4d6_mgkg                                       : num  NA NA NA NA NA NA NA NA NA NA ...\n",
            " $ cr.meh3_usda.4d6_mgkg                                       : num  NA NA NA NA NA NA NA NA NA NA ...\n",
            " $ cu.meh3_usda.4d6_mgkg                                       : num  NA NA NA NA NA NA NA NA NA NA ...\n",
            " $ p.meh3_usda.4d6_mgkg                                        : num  NA NA NA NA NA NA NA NA NA NA ...\n",
            " $ k.meh3_usda.4d6_mgkg                                        : num  306.3 1186 72.6 274.6 91.8 ...\n",
            " $ na.meh3_usda.4d6_mgkg                                       : num  42.7 40.8 42.9 20.7 49.3 ...\n",
            " $ mg.meh3_usda.4d6_mgkg                                       : num  89.5 636.7 428.5 222.5 76.5 ...\n",
            " $ fe.meh3_usda.4d6_mgkg                                       : num  NA NA NA NA NA NA NA NA NA NA ...\n",
            " $ pb.meh3_usda.4d6_mgkg                                       : num  NA NA NA NA NA NA NA NA NA NA ...\n",
            " $ zn.meh3_usda.4d6_mgkg                                       : num  2.83 1.95 2.74 0.98 1.26 ...\n",
            " $ mo.meh3_usda.4d6_mgkg                                       : num  NA NA NA NA NA NA NA NA NA NA ...\n",
            " $ si.meh3_usda.4d6_mgkg                                       : num  NA NA NA NA NA NA NA NA NA NA ...\n",
            " $ sr.meh3_usda.4d6_mgkg                                       : num  NA NA NA NA NA NA NA NA NA NA ...\n",
            " $ id.location_olc_c                                           : chr  \"6G5RWC6P+G9\" \"6G5RWFV5+P3\" \"6G6VMF6V+78\" \"6G6VMG88+G4\" ...\n",
            " $ observation.ogc.schema.title_ogc_txt                        : chr  \"Open Soil Spectroscopy Library\" \"Open Soil Spectroscopy Library\" \"Open Soil Spectroscopy Library\" \"Open Soil Spectroscopy Library\" ...\n",
            " $ observation.ogc.schema_idn_url                              : chr  \"https://soilspectroscopy.github.io\" \"https://soilspectroscopy.github.io\" \"https://soilspectroscopy.github.io\" \"https://soilspectroscopy.github.io\" ...\n",
            " $ observation.date.begin_iso.8601_yyyy.mm.dd                  : chr  \"1996-11-01\" \"1996-11-01\" \"1996-11-01\" \"1996-11-01\" ...\n",
            " $ observation.date.end_iso.8601_yyyy.mm.dd                    : chr  \"2006-11-01\" \"2006-11-01\" \"2006-11-01\" \"2006-11-01\" ...\n",
            " $ location.address_utf8_txt                                   : chr  \"Unknown\" \"Unknown\" \"Unknown\" \"Unknown\" ...\n",
            " $ location.country_iso.3166_c                                 : chr  NA NA NA NA ...\n",
            " $ location.method_any_c                                       : chr  \"GPS\" \"GPS\" \"GPS\" \"GPS\" ...\n",
            " $ surveyor.title_utf8_txt                                     : chr  \"Tor Gunnar Vagen\" \"Tor Gunnar Vagen\" \"Tor Gunnar Vagen\" \"Tor Gunnar Vagen\" ...\n",
            " $ surveyor.contact_ietf_email                                 : chr  NA NA NA NA ...\n",
            " $ surveyor.address_utf8_txt                                   : chr  \"ICRAF, PO Box 30677, Nairobi, 00100, Kenya\" \"ICRAF, PO Box 30677, Nairobi, 00100, Kenya\" \"ICRAF, PO Box 30677, Nairobi, 00100, Kenya\" \"ICRAF, PO Box 30677, Nairobi, 00100, Kenya\" ...\n",
            " $ longitude_wgs84_dd                                          : num  36.4 36.5 37.5 37.5 35.2 ...\n",
            " $ latitude_wgs84_dd                                           : num  -6.09 -6.06 -5.34 -5.33 -11.09 ...\n",
            " $ location.error_any_m                                        : num  30 30 30 30 30 30 30 30 30 30 ...\n",
            " $ dataset.title_utf8_txt                                      : chr  \"Africa Soil Information Service (AfSIS-1)\" \"Africa Soil Information Service (AfSIS-1)\" \"Africa Soil Information Service (AfSIS-1)\" \"Africa Soil Information Service (AfSIS-1)\" ...\n",
            " $ dataset.owner_utf8_txt                                      : chr  \"the World Agroforestry Centre (ICRAF), Crop Nutrition Laboratory Services Ltd. (CROPNUTS), and Rothamsted Research (RRES)\" \"the World Agroforestry Centre (ICRAF), Crop Nutrition Laboratory Services Ltd. (CROPNUTS), and Rothamsted Research (RRES)\" \"the World Agroforestry Centre (ICRAF), Crop Nutrition Laboratory Services Ltd. (CROPNUTS), and Rothamsted Research (RRES)\" \"the World Agroforestry Centre (ICRAF), Crop Nutrition Laboratory Services Ltd. (CROPNUTS), and Rothamsted Research (RRES)\" ...\n",
            " $ dataset.code_ascii_c                                        : chr  \"AFSIS1.SSL\" \"AFSIS1.SSL\" \"AFSIS1.SSL\" \"AFSIS1.SSL\" ...\n",
            " $ dataset.address_idn_url                                     : chr  \"ICRAF, PO Box 30677, Nairobi, 00100, Kenya\" \"ICRAF, PO Box 30677, Nairobi, 00100, Kenya\" \"ICRAF, PO Box 30677, Nairobi, 00100, Kenya\" \"ICRAF, PO Box 30677, Nairobi, 00100, Kenya\" ...\n",
            " $ dataset.license.title_ascii_txt                             : chr  \"ODC Open Database License\" \"ODC Open Database License\" \"ODC Open Database License\" \"ODC Open Database License\" ...\n",
            " $ dataset.license.address_idn_url                             : chr  \"https://opendatacommons.org/licenses/odbl/\" \"https://opendatacommons.org/licenses/odbl/\" \"https://opendatacommons.org/licenses/odbl/\" \"https://opendatacommons.org/licenses/odbl/\" ...\n",
            " $ dataset.doi_idf_c                                           : chr  NA NA NA NA ...\n",
            " $ dataset.contact.name_utf8_txt                               : chr  \"Keith Shepherd\" \"Keith Shepherd\" \"Keith Shepherd\" \"Keith Shepherd\" ...\n",
            " $ dataset.contact_ietf_email                                  : chr  \"afsis.info@africasoils.net\" \"afsis.info@africasoils.net\" \"afsis.info@africasoils.net\" \"afsis.info@africasoils.net\" ...\n",
            " $ id.project_ascii_c                                          : chr  NA NA NA NA ...\n",
            " $ id.user.site_ascii_c                                        : chr  NA NA NA NA ...\n",
            " $ pedon.taxa_usda_c                                           : chr  NA NA NA NA ...\n",
            " $ pedon.completeness_usda_uint8                               : logi  NA NA NA NA NA NA ...\n",
            " $ layer.sequence_usda_uint16                                  : num  2 1 2 2 1 1 1 1 2 2 ...\n",
            " $ layer.type_usda_c                                           : chr  NA NA NA NA ...\n",
            " $ layer.field.label_any_c                                     : chr  NA NA NA NA ...\n",
            " $ layer.upper.depth_usda_cm                                   : num  20 0 20 20 0 0 0 0 20 20 ...\n",
            " $ layer.lower.depth_usda_cm                                   : num  50 20 50 50 20 20 20 20 50 50 ...\n",
            " $ horizon.designation_usda_c                                  : chr  NA NA NA NA ...\n",
            " $ horizon.designation.discontinuity_usda_c                    : int  NA NA NA NA NA NA NA NA NA NA ...\n",
            " $ layer.structure.type_usda_c                                 : logi  NA NA NA NA NA NA ...\n",
            " $ layer.structure.grade_usda_c                                : logi  NA NA NA NA NA NA ...\n",
            " $ layer.texture_usda_c                                        : chr  NA NA NA NA ...\n",
            " $ vnirmodel.code_any_c                                        : chr  NA NA NA NA ...\n",
            " $ scan_visnir.350_pcnt                                        : num  NA NA NA NA NA NA NA NA NA NA ...\n",
            " $ scan_visnir.352_pcnt                                        : num  NA NA NA NA NA NA NA NA NA NA ...\n",
            "  [list output truncated]\n"
          ]
        }
      ]
    },
    {
      "cell_type": "markdown",
      "source": [
        "## Checking available SSLs"
      ],
      "metadata": {
        "id": "mRuQB9WdESGZ"
      }
    },
    {
      "cell_type": "code",
      "source": [
        "rm.ossl %>%\n",
        "  distinct(dataset.code_ascii_c)"
      ],
      "metadata": {
        "colab": {
          "base_uri": "https://localhost:8080/",
          "height": 318
        },
        "id": "0RBlHa2MD6Fp",
        "outputId": "df34b5d7-2e81-4cf6-cad7-bc467ce23beb"
      },
      "execution_count": 10,
      "outputs": [
        {
          "output_type": "display_data",
          "data": {
            "text/plain": [
              "  dataset.code_ascii_c\n",
              "1 AFSIS1.SSL          \n",
              "2 AFSIS2.SSL          \n",
              "3 CAF.SSL             \n",
              "4 KSSL.SSL            \n",
              "5 ICRAF.ISRIC         \n",
              "6 LUCAS.SSL           \n",
              "7 NEON.SSL            "
            ],
            "text/latex": "A data.frame: 7 × 1\n\\begin{tabular}{l}\n dataset.code\\_ascii\\_c\\\\\n <chr>\\\\\n\\hline\n\t AFSIS1.SSL \\\\\n\t AFSIS2.SSL \\\\\n\t CAF.SSL    \\\\\n\t KSSL.SSL   \\\\\n\t ICRAF.ISRIC\\\\\n\t LUCAS.SSL  \\\\\n\t NEON.SSL   \\\\\n\\end{tabular}\n",
            "text/markdown": "\nA data.frame: 7 × 1\n\n| dataset.code_ascii_c &lt;chr&gt; |\n|---|\n| AFSIS1.SSL  |\n| AFSIS2.SSL  |\n| CAF.SSL     |\n| KSSL.SSL    |\n| ICRAF.ISRIC |\n| LUCAS.SSL   |\n| NEON.SSL    |\n\n",
            "text/html": [
              "<table class=\"dataframe\">\n",
              "<caption>A data.frame: 7 × 1</caption>\n",
              "<thead>\n",
              "\t<tr><th scope=col>dataset.code_ascii_c</th></tr>\n",
              "\t<tr><th scope=col>&lt;chr&gt;</th></tr>\n",
              "</thead>\n",
              "<tbody>\n",
              "\t<tr><td>AFSIS1.SSL </td></tr>\n",
              "\t<tr><td>AFSIS2.SSL </td></tr>\n",
              "\t<tr><td>CAF.SSL    </td></tr>\n",
              "\t<tr><td>KSSL.SSL   </td></tr>\n",
              "\t<tr><td>ICRAF.ISRIC</td></tr>\n",
              "\t<tr><td>LUCAS.SSL  </td></tr>\n",
              "\t<tr><td>NEON.SSL   </td></tr>\n",
              "</tbody>\n",
              "</table>\n"
            ]
          },
          "metadata": {}
        }
      ]
    },
    {
      "cell_type": "markdown",
      "source": [
        "## Checking the number of observations\n",
        "SOC"
      ],
      "metadata": {
        "id": "lbS2e5mUKivJ"
      }
    },
    {
      "cell_type": "code",
      "source": [
        "rm.ossl %>%\n",
        "  group_by(dataset.code_ascii_c) %>%\n",
        "  filter(!(is.na(oc_usda.calc_wpct) | is.na(scan_mir.600_abs))) %>%\n",
        "  summarize(n_observations = n()) %>%\n",
        "  arrange(desc(n_observations))\n"
      ],
      "metadata": {
        "colab": {
          "base_uri": "https://localhost:8080/",
          "height": 286
        },
        "id": "3W0_zzu1Kn0-",
        "outputId": "d64f5192-ed8d-461a-bf91-80eb5c36e51e"
      },
      "execution_count": 17,
      "outputs": [
        {
          "output_type": "display_data",
          "data": {
            "text/plain": [
              "  dataset.code_ascii_c n_observations\n",
              "1 KSSL.SSL             73028         \n",
              "2 ICRAF.ISRIC           3916         \n",
              "3 AFSIS2.SSL             781         \n",
              "4 LUCAS.SSL              605         \n",
              "5 NEON.SSL               251         \n",
              "6 CAF.SSL                 34         "
            ],
            "text/latex": "A tibble: 6 × 2\n\\begin{tabular}{ll}\n dataset.code\\_ascii\\_c & n\\_observations\\\\\n <chr> & <int>\\\\\n\\hline\n\t KSSL.SSL    & 73028\\\\\n\t ICRAF.ISRIC &  3916\\\\\n\t AFSIS2.SSL  &   781\\\\\n\t LUCAS.SSL   &   605\\\\\n\t NEON.SSL    &   251\\\\\n\t CAF.SSL     &    34\\\\\n\\end{tabular}\n",
            "text/markdown": "\nA tibble: 6 × 2\n\n| dataset.code_ascii_c &lt;chr&gt; | n_observations &lt;int&gt; |\n|---|---|\n| KSSL.SSL    | 73028 |\n| ICRAF.ISRIC |  3916 |\n| AFSIS2.SSL  |   781 |\n| LUCAS.SSL   |   605 |\n| NEON.SSL    |   251 |\n| CAF.SSL     |    34 |\n\n",
            "text/html": [
              "<table class=\"dataframe\">\n",
              "<caption>A tibble: 6 × 2</caption>\n",
              "<thead>\n",
              "\t<tr><th scope=col>dataset.code_ascii_c</th><th scope=col>n_observations</th></tr>\n",
              "\t<tr><th scope=col>&lt;chr&gt;</th><th scope=col>&lt;int&gt;</th></tr>\n",
              "</thead>\n",
              "<tbody>\n",
              "\t<tr><td>KSSL.SSL   </td><td>73028</td></tr>\n",
              "\t<tr><td>ICRAF.ISRIC</td><td> 3916</td></tr>\n",
              "\t<tr><td>AFSIS2.SSL </td><td>  781</td></tr>\n",
              "\t<tr><td>LUCAS.SSL  </td><td>  605</td></tr>\n",
              "\t<tr><td>NEON.SSL   </td><td>  251</td></tr>\n",
              "\t<tr><td>CAF.SSL    </td><td>   34</td></tr>\n",
              "</tbody>\n",
              "</table>\n"
            ]
          },
          "metadata": {}
        }
      ]
    },
    {
      "cell_type": "markdown",
      "source": [
        "pH H20"
      ],
      "metadata": {
        "id": "LGVaz7ocLjqI"
      }
    },
    {
      "cell_type": "code",
      "source": [
        "rm.ossl %>%\n",
        "  group_by(dataset.code_ascii_c) %>%\n",
        "  filter(!(is.na(ph.h2o_usda.4c1_index) | is.na(scan_mir.600_abs))) %>%\n",
        "  summarize(n_observations = n()) %>%\n",
        "  arrange(desc(n_observations))"
      ],
      "metadata": {
        "colab": {
          "base_uri": "https://localhost:8080/",
          "height": 318
        },
        "id": "AbOcK93jLlFk",
        "outputId": "3436605f-3f73-458a-e030-657e3b775d53"
      },
      "execution_count": 19,
      "outputs": [
        {
          "output_type": "display_data",
          "data": {
            "text/plain": [
              "  dataset.code_ascii_c n_observations\n",
              "1 KSSL.SSL             54790         \n",
              "2 ICRAF.ISRIC           3992         \n",
              "3 AFSIS1.SSL            1904         \n",
              "4 AFSIS2.SSL             773         \n",
              "5 LUCAS.SSL              605         \n",
              "6 CAF.SSL                534         \n",
              "7 NEON.SSL               303         "
            ],
            "text/latex": "A tibble: 7 × 2\n\\begin{tabular}{ll}\n dataset.code\\_ascii\\_c & n\\_observations\\\\\n <chr> & <int>\\\\\n\\hline\n\t KSSL.SSL    & 54790\\\\\n\t ICRAF.ISRIC &  3992\\\\\n\t AFSIS1.SSL  &  1904\\\\\n\t AFSIS2.SSL  &   773\\\\\n\t LUCAS.SSL   &   605\\\\\n\t CAF.SSL     &   534\\\\\n\t NEON.SSL    &   303\\\\\n\\end{tabular}\n",
            "text/markdown": "\nA tibble: 7 × 2\n\n| dataset.code_ascii_c &lt;chr&gt; | n_observations &lt;int&gt; |\n|---|---|\n| KSSL.SSL    | 54790 |\n| ICRAF.ISRIC |  3992 |\n| AFSIS1.SSL  |  1904 |\n| AFSIS2.SSL  |   773 |\n| LUCAS.SSL   |   605 |\n| CAF.SSL     |   534 |\n| NEON.SSL    |   303 |\n\n",
            "text/html": [
              "<table class=\"dataframe\">\n",
              "<caption>A tibble: 7 × 2</caption>\n",
              "<thead>\n",
              "\t<tr><th scope=col>dataset.code_ascii_c</th><th scope=col>n_observations</th></tr>\n",
              "\t<tr><th scope=col>&lt;chr&gt;</th><th scope=col>&lt;int&gt;</th></tr>\n",
              "</thead>\n",
              "<tbody>\n",
              "\t<tr><td>KSSL.SSL   </td><td>54790</td></tr>\n",
              "\t<tr><td>ICRAF.ISRIC</td><td> 3992</td></tr>\n",
              "\t<tr><td>AFSIS1.SSL </td><td> 1904</td></tr>\n",
              "\t<tr><td>AFSIS2.SSL </td><td>  773</td></tr>\n",
              "\t<tr><td>LUCAS.SSL  </td><td>  605</td></tr>\n",
              "\t<tr><td>CAF.SSL    </td><td>  534</td></tr>\n",
              "\t<tr><td>NEON.SSL   </td><td>  303</td></tr>\n",
              "</tbody>\n",
              "</table>\n"
            ]
          },
          "metadata": {}
        }
      ]
    },
    {
      "cell_type": "markdown",
      "source": [
        "Clay"
      ],
      "metadata": {
        "id": "_IMLBucGLlVW"
      }
    },
    {
      "cell_type": "code",
      "source": [
        "rm.ossl %>%\n",
        "  group_by(dataset.code_ascii_c) %>%\n",
        "  filter(!(is.na(clay.tot_usda.3a1_wpct) | is.na(scan_mir.600_abs))) %>%\n",
        "  summarize(n_observations = n()) %>%\n",
        "  arrange(desc(n_observations))"
      ],
      "metadata": {
        "colab": {
          "base_uri": "https://localhost:8080/",
          "height": 255
        },
        "id": "J9gdbY4hL999",
        "outputId": "4dbfc85d-d48e-4647-f569-3388aa290b36"
      },
      "execution_count": 20,
      "outputs": [
        {
          "output_type": "display_data",
          "data": {
            "text/plain": [
              "  dataset.code_ascii_c n_observations\n",
              "1 KSSL.SSL             51349         \n",
              "2 ICRAF.ISRIC           3942         \n",
              "3 LUCAS.SSL              605         \n",
              "4 CAF.SSL                562         \n",
              "5 NEON.SSL               293         "
            ],
            "text/latex": "A tibble: 5 × 2\n\\begin{tabular}{ll}\n dataset.code\\_ascii\\_c & n\\_observations\\\\\n <chr> & <int>\\\\\n\\hline\n\t KSSL.SSL    & 51349\\\\\n\t ICRAF.ISRIC &  3942\\\\\n\t LUCAS.SSL   &   605\\\\\n\t CAF.SSL     &   562\\\\\n\t NEON.SSL    &   293\\\\\n\\end{tabular}\n",
            "text/markdown": "\nA tibble: 5 × 2\n\n| dataset.code_ascii_c &lt;chr&gt; | n_observations &lt;int&gt; |\n|---|---|\n| KSSL.SSL    | 51349 |\n| ICRAF.ISRIC |  3942 |\n| LUCAS.SSL   |   605 |\n| CAF.SSL     |   562 |\n| NEON.SSL    |   293 |\n\n",
            "text/html": [
              "<table class=\"dataframe\">\n",
              "<caption>A tibble: 5 × 2</caption>\n",
              "<thead>\n",
              "\t<tr><th scope=col>dataset.code_ascii_c</th><th scope=col>n_observations</th></tr>\n",
              "\t<tr><th scope=col>&lt;chr&gt;</th><th scope=col>&lt;int&gt;</th></tr>\n",
              "</thead>\n",
              "<tbody>\n",
              "\t<tr><td>KSSL.SSL   </td><td>51349</td></tr>\n",
              "\t<tr><td>ICRAF.ISRIC</td><td> 3942</td></tr>\n",
              "\t<tr><td>LUCAS.SSL  </td><td>  605</td></tr>\n",
              "\t<tr><td>CAF.SSL    </td><td>  562</td></tr>\n",
              "\t<tr><td>NEON.SSL   </td><td>  293</td></tr>\n",
              "</tbody>\n",
              "</table>\n"
            ]
          },
          "metadata": {}
        }
      ]
    },
    {
      "cell_type": "markdown",
      "source": [
        "# Exploring the CAF.SSL"
      ],
      "metadata": {
        "id": "C9L5SGXYEWPY"
      }
    },
    {
      "cell_type": "code",
      "source": [
        "caf.ssl <- rm.ossl %>%\n",
        "  filter(dataset.code_ascii_c == \"CAF.SSL\")\n",
        "dim(caf.ssl)"
      ],
      "metadata": {
        "colab": {
          "base_uri": "https://localhost:8080/",
          "height": 34
        },
        "id": "Yi_TMYiwIlgu",
        "outputId": "30d5d26b-bf5c-46d3-9990-0361180681c7"
      },
      "execution_count": 11,
      "outputs": [
        {
          "output_type": "display_data",
          "data": {
            "text/plain": [
              "[1] 1903 2962"
            ],
            "text/latex": "\\begin{enumerate*}\n\\item 1903\n\\item 2962\n\\end{enumerate*}\n",
            "text/markdown": "1. 1903\n2. 2962\n\n\n",
            "text/html": [
              "<style>\n",
              ".list-inline {list-style: none; margin:0; padding: 0}\n",
              ".list-inline>li {display: inline-block}\n",
              ".list-inline>li:not(:last-child)::after {content: \"\\00b7\"; padding: 0 .5ex}\n",
              "</style>\n",
              "<ol class=list-inline><li>1903</li><li>2962</li></ol>\n"
            ]
          },
          "metadata": {}
        }
      ]
    },
    {
      "cell_type": "markdown",
      "source": [
        "The `grep` comand is used to find colums with **mir** prefix, and the first column is also selected as ID[texto do link](https:// [texto do link](https://))."
      ],
      "metadata": {
        "id": "02tQpGMvI69f"
      }
    },
    {
      "cell_type": "code",
      "source": [
        "caf.ssl.info <- names(caf.ssl)\n",
        "length(grep(\"mir\", caf.ssl.info))\n",
        "\n",
        "caf.ssl.mir <- caf.ssl[,c(1, grep(\"mir\", caf.ssl.info))]\n",
        "caf.ssl.mir\n"
      ],
      "metadata": {
        "colab": {
          "base_uri": "https://localhost:8080/",
          "height": 1000
        },
        "id": "xdofPzuyI-k8",
        "outputId": "a8b34baa-16e1-4cd0-c2a7-64fdd921b701"
      },
      "execution_count": 14,
      "outputs": [
        {
          "output_type": "display_data",
          "data": {
            "text/plain": [
              "[1] 1702"
            ],
            "text/latex": "1702",
            "text/markdown": "1702",
            "text/html": [
              "1702"
            ]
          },
          "metadata": {}
        },
        {
          "output_type": "display_data",
          "data": {
            "text/plain": [
              "     id.layer_local_c mirmodel.code_any_c     scan_mir.600_abs scan_mir.602_abs\n",
              "1    bol_1x_mcrz_50   Bruker_Vertex_70.HTS.XT 1683             1666            \n",
              "2    bol_2x_mcrz_20   Bruker_Vertex_70.HTS.XT 1612             1597            \n",
              "3    bon_1x_mcrz_20   Bruker_Vertex_70.HTS.XT 1661             1662            \n",
              "4    bon_pp_mcar_50   Bruker_Vertex_70.HTS.XT 1755             1759            \n",
              "5    bon_2x_mcrz_20   Bruker_Vertex_70.HTS.XT 1755             1745            \n",
              "6    ctr_in_arar_50   Bruker_Vertex_70.HTS.XT 1773             1770            \n",
              "7    ctr_in_msms_20   Bruker_Vertex_70.HTS.XT 1761             1753            \n",
              "8    ctr_in_nbnb_20   Bruker_Vertex_70.HTS.XT 1690             1687            \n",
              "9    ctr_in_rzrz_50   Bruker_Vertex_70.HTS.XT 1802             1813            \n",
              "10   lif_s1_msms_20   Bruker_Vertex_70.HTS.XT 1735             1731            \n",
              "11   lif_s3_arar_20   Bruker_Vertex_70.HTS.XT 1817             1817            \n",
              "12   lif_s3_mcar_20   Bruker_Vertex_70.HTS.XT 1746             1743            \n",
              "13   lif_s3_mcmc_20   Bruker_Vertex_70.HTS.XT 1830             1823            \n",
              "14   lil_1x_mcms_20   Bruker_Vertex_70.HTS.XT 1688             1679            \n",
              "15   lil_pp_mcar_20   Bruker_Vertex_70.HTS.XT 1643             1642            \n",
              "16   lil_s2_mcmc_20   Bruker_Vertex_70.HTS.XT 1707             1706            \n",
              "17   lil_s3_mcar_20   Bruker_Vertex_70.HTS.XT 1647             1647            \n",
              "18   lil_s3_mcms_50   Bruker_Vertex_70.HTS.XT 1651             1649            \n",
              "19   wak_in_mcrz_20   Bruker_Vertex_70.HTS.XT 1704             1696            \n",
              "20   wak_in_mmnb_50   Bruker_Vertex_70.HTS.XT 1683             1683            \n",
              "21   wak_in_nbnb_20   Bruker_Vertex_70.HTS.XT 1750             1757            \n",
              "22   wak_in_rzrz_50   Bruker_Vertex_70.HTS.XT 1623             1625            \n",
              "23   yal_s0_arar_20   Bruker_Vertex_70.HTS.XT 1781             1782            \n",
              "24   yal_s2_msms_20   Bruker_Vertex_70.HTS.XT 1706             1689            \n",
              "25   yal_s2_rzrz_20   Bruker_Vertex_70.HTS.XT 1660             1655            \n",
              "26   yol_1x_mcrz_50   Bruker_Vertex_70.HTS.XT 1703             1695            \n",
              "27   yol_2x_mcar_20   Bruker_Vertex_70.HTS.XT 1714             1714            \n",
              "28   yol_pp_mcar_50   Bruker_Vertex_70.HTS.XT 1620             1605            \n",
              "29   yol_ni_arar_50   Bruker_Vertex_70.HTS.XT 1898             1910            \n",
              "30   yol_ni_mcar_50   Bruker_Vertex_70.HTS.XT 1881             1904            \n",
              "⋮    ⋮                ⋮                       ⋮                ⋮               \n",
              "1874 1004             Bruker_Vertex_70.HTS.XT 1924             1936            \n",
              "1875 1004             Bruker_Vertex_70.HTS.XT 1612             1622            \n",
              "1876 1005             Bruker_Vertex_70.HTS.XT 1920             1943            \n",
              "1877 1005             Bruker_Vertex_70.HTS.XT 1629             1637            \n",
              "1878 1006             Bruker_Vertex_70.HTS.XT 1907             1916            \n",
              "1879 1006             Bruker_Vertex_70.HTS.XT 1574             1584            \n",
              "1880 1007             Bruker_Vertex_70.HTS.XT 1880             1897            \n",
              "1881 1007             Bruker_Vertex_70.HTS.XT 1582             1595            \n",
              "1882 1008             Bruker_Vertex_70.HTS.XT 1882             1897            \n",
              "1883 1008             Bruker_Vertex_70.HTS.XT 1518             1529            \n",
              "1884 1009             Bruker_Vertex_70.HTS.XT 1934             1934            \n",
              "1885 1009             Bruker_Vertex_70.HTS.XT 1568             1578            \n",
              "1886 1010             Bruker_Vertex_70.HTS.XT 1928             1928            \n",
              "1887 1010             Bruker_Vertex_70.HTS.XT 1604             1617            \n",
              "1888 1011             Bruker_Vertex_70.HTS.XT 1844             1866            \n",
              "1889 1011             Bruker_Vertex_70.HTS.XT 1598             1607            \n",
              "1890 1012             Bruker_Vertex_70.HTS.XT 1829             1832            \n",
              "1891 1012             Bruker_Vertex_70.HTS.XT 1500             1507            \n",
              "1892 1013             Bruker_Vertex_70.HTS.XT 1917             1925            \n",
              "1893 1013             Bruker_Vertex_70.HTS.XT 1539             1550            \n",
              "1894 1014             Bruker_Vertex_70.HTS.XT 1898             1892            \n",
              "1895 1014             Bruker_Vertex_70.HTS.XT 1564             1573            \n",
              "1896 1015             Bruker_Vertex_70.HTS.XT 1870             1903            \n",
              "1897 1015             Bruker_Vertex_70.HTS.XT 1639             1652            \n",
              "1898 1016             Bruker_Vertex_70.HTS.XT 1788             1792            \n",
              "1899 1016             Bruker_Vertex_70.HTS.XT 1616             1626            \n",
              "1900 1017             Bruker_Vertex_70.HTS.XT 1835             1859            \n",
              "1901 1017             Bruker_Vertex_70.HTS.XT 1668             1679            \n",
              "1902 1018             Bruker_Vertex_70.HTS.XT 1952             1960            \n",
              "1903 1018             Bruker_Vertex_70.HTS.XT 1615             1624            \n",
              "     scan_mir.604_abs scan_mir.606_abs scan_mir.608_abs scan_mir.610_abs\n",
              "1    1643             1632             1628             1626            \n",
              "2    1591             1589             1583             1574            \n",
              "3    1660             1647             1634             1620            \n",
              "4    1754             1744             1729             1709            \n",
              "5    1745             1744             1737             1728            \n",
              "6    1767             1772             1781             1786            \n",
              "7    1757             1757             1749             1733            \n",
              "8    1692             1689             1680             1680            \n",
              "9    1815             1810             1799             1788            \n",
              "10   1717             1709             1694             1669            \n",
              "11   1824             1834             1839             1838            \n",
              "12   1722             1701             1697             1695            \n",
              "13   1833             1854             1868             1862            \n",
              "14   1662             1648             1639             1628            \n",
              "15   1646             1642             1628             1610            \n",
              "16   1716             1718             1698             1677            \n",
              "17   1646             1637             1624             1611            \n",
              "18   1639             1621             1599             1579            \n",
              "19   1676             1656             1652             1652            \n",
              "20   1678             1665             1653             1648            \n",
              "21   1767             1766             1744             1723            \n",
              "22   1620             1604             1591             1581            \n",
              "23   1789             1794             1800             1803            \n",
              "24   1677             1676             1681             1679            \n",
              "25   1653             1649             1635             1617            \n",
              "26   1689             1687             1680             1662            \n",
              "27   1705             1691             1679             1678            \n",
              "28   1590             1581             1575             1569            \n",
              "29   1919             1915             1914             1934            \n",
              "30   1920             1930             1920             1915            \n",
              "⋮    ⋮                ⋮                ⋮                ⋮               \n",
              "1874 1952             1961             1972             1983            \n",
              "1875 1636             1651             1667             1681            \n",
              "1876 1960             1962             1959             1968            \n",
              "1877 1649             1664             1681             1695            \n",
              "1878 1931             1942             1954             1968            \n",
              "1879 1597             1611             1627             1643            \n",
              "1880 1909             1920             1944             1959            \n",
              "1881 1611             1627             1644             1660            \n",
              "1882 1910             1923             1934             1942            \n",
              "1883 1543             1559             1577             1593            \n",
              "1884 1942             1963             1977             1976            \n",
              "1885 1591             1606             1620             1633            \n",
              "1886 1947             1983             2020             2036            \n",
              "1887 1631             1645             1660             1674            \n",
              "1888 1905             1938             1952             1950            \n",
              "1889 1619             1634             1650             1665            \n",
              "1890 1845             1855             1865             1880            \n",
              "1891 1519             1534             1550             1566            \n",
              "1892 1935             1968             2008             2017            \n",
              "1893 1563             1577             1591             1604            \n",
              "1894 1894             1917             1946             1956            \n",
              "1895 1584             1597             1612             1627            \n",
              "1896 1924             1939             1949             1971            \n",
              "1897 1665             1679             1694             1709            \n",
              "1898 1810             1824             1844             1869            \n",
              "1899 1641             1657             1674             1689            \n",
              "1900 1901             1930             1949             1959            \n",
              "1901 1693             1709             1724             1740            \n",
              "1902 1967             1969             1980             2004            \n",
              "1903 1636             1650             1666             1680            \n",
              "     scan_mir.612_abs scan_mir.614_abs ⋯ scan_mir.3982_abs scan_mir.3984_abs\n",
              "1    1625             1622             ⋯ 254               254              \n",
              "2    1563             1550             ⋯ 237               237              \n",
              "3    1600             1580             ⋯ 257               257              \n",
              "4    1689             1670             ⋯ 287               287              \n",
              "5    1723             1727             ⋯ 302               302              \n",
              "6    1790             1798             ⋯ 342               341              \n",
              "7    1713             1696             ⋯ 289               289              \n",
              "8    1689             1691             ⋯ 265               265              \n",
              "9    1791             1802             ⋯ 365               364              \n",
              "10   1655             1662             ⋯ 273               273              \n",
              "11   1828             1815             ⋯ 310               310              \n",
              "12   1681             1669             ⋯ 278               278              \n",
              "13   1848             1830             ⋯ 333               332              \n",
              "14   1610             1595             ⋯ 250               249              \n",
              "15   1596             1591             ⋯ 256               256              \n",
              "16   1665             1658             ⋯ 325               324              \n",
              "17   1599             1584             ⋯ 261               261              \n",
              "18   1563             1550             ⋯ 237               237              \n",
              "19   1642             1629             ⋯ 247               247              \n",
              "20   1645             1632             ⋯ 258               258              \n",
              "21   1719             1720             ⋯ 315               315              \n",
              "22   1570             1558             ⋯ 221               221              \n",
              "23   1801             1791             ⋯ 328               328              \n",
              "24   1664             1644             ⋯ 292               292              \n",
              "25   1610             1615             ⋯ 283               282              \n",
              "26   1646             1639             ⋯ 279               278              \n",
              "27   1677             1663             ⋯ 290               289              \n",
              "28   1559             1547             ⋯ 254               254              \n",
              "29   1966             1990             ⋯ 436               435              \n",
              "30   1932             1955             ⋯ 444               443              \n",
              "⋮    ⋮                ⋮                ⋱ ⋮                 ⋮                \n",
              "1874 1981             1989             ⋯ 491               490              \n",
              "1875 1694             1704             ⋯ 222               221              \n",
              "1876 2005             2062             ⋯ 574               573              \n",
              "1877 1707             1716             ⋯ 211               210              \n",
              "1878 1984             2008             ⋯ 514               513              \n",
              "1879 1657             1669             ⋯ 195               195              \n",
              "1880 1964             1988             ⋯ 544               543              \n",
              "1881 1675             1687             ⋯ 252               252              \n",
              "1882 1945             1956             ⋯ 443               443              \n",
              "1883 1607             1618             ⋯ 174               174              \n",
              "1884 1972             1988             ⋯ 457               456              \n",
              "1885 1646             1656             ⋯ 207               206              \n",
              "1886 2019             2003             ⋯ 536               536              \n",
              "1887 1688             1700             ⋯ 240               239              \n",
              "1888 1934             1917             ⋯ 478               477              \n",
              "1889 1678             1688             ⋯ 213               212              \n",
              "1890 1903             1932             ⋯ 492               491              \n",
              "1891 1579             1589             ⋯ 196               195              \n",
              "1892 1995             1988             ⋯ 548               547              \n",
              "1893 1616             1625             ⋯ 201               201              \n",
              "1894 1958             1983             ⋯ 433               433              \n",
              "1895 1640             1649             ⋯ 241               241              \n",
              "1896 2011             2039             ⋯ 432               431              \n",
              "1897 1722             1734             ⋯ 236               236              \n",
              "1898 1875             1878             ⋯ 525               524              \n",
              "1899 1702             1714             ⋯ 267               267              \n",
              "1900 1961             1971             ⋯ 442               442              \n",
              "1901 1754             1767             ⋯ 302               302              \n",
              "1902 2030             2070             ⋯ 563               563              \n",
              "1903 1691             1701             ⋯ 237               237              \n",
              "     scan_mir.3986_abs scan_mir.3988_abs scan_mir.3990_abs scan_mir.3992_abs\n",
              "1    253               253               252               251              \n",
              "2    237               236               236               236              \n",
              "3    256               256               256               255              \n",
              "4    286               286               285               285              \n",
              "5    302               301               301               301              \n",
              "6    340               339               338               338              \n",
              "7    288               288               287               287              \n",
              "8    264               264               263               263              \n",
              "9    363               362               361               361              \n",
              "10   272               272               272               271              \n",
              "11   309               309               308               307              \n",
              "12   278               277               277               276              \n",
              "13   332               332               331               331              \n",
              "14   249               249               249               248              \n",
              "15   255               255               255               255              \n",
              "16   324               324               324               324              \n",
              "17   261               260               260               260              \n",
              "18   237               236               236               236              \n",
              "19   246               246               245               245              \n",
              "20   257               257               257               256              \n",
              "21   315               314               314               314              \n",
              "22   220               220               219               219              \n",
              "23   328               327               327               326              \n",
              "24   292               292               291               291              \n",
              "25   282               282               281               281              \n",
              "26   278               278               277               277              \n",
              "27   289               289               289               288              \n",
              "28   254               253               253               253              \n",
              "29   434               433               432               431              \n",
              "30   442               441               440               439              \n",
              "⋮    ⋮                 ⋮                 ⋮                 ⋮                \n",
              "1874 489               489               488               488              \n",
              "1875 221               221               220               219              \n",
              "1876 573               572               572               571              \n",
              "1877 210               209               209               208              \n",
              "1878 513               512               512               511              \n",
              "1879 194               194               193               192              \n",
              "1880 543               542               542               542              \n",
              "1881 252               251               250               249              \n",
              "1882 442               442               441               441              \n",
              "1883 173               173               172               171              \n",
              "1884 456               455               455               454              \n",
              "1885 206               206               205               204              \n",
              "1886 535               535               535               534              \n",
              "1887 239               238               238               237              \n",
              "1888 477               476               476               475              \n",
              "1889 212               211               211               210              \n",
              "1890 490               490               489               488              \n",
              "1891 195               194               194               193              \n",
              "1892 547               547               546               545              \n",
              "1893 201               200               200               199              \n",
              "1894 432               432               431               430              \n",
              "1895 240               240               239               238              \n",
              "1896 430               430               429               429              \n",
              "1897 235               235               234               233              \n",
              "1898 524               523               522               522              \n",
              "1899 266               266               265               264              \n",
              "1900 441               441               441               440              \n",
              "1901 301               301               300               299              \n",
              "1902 562               562               561               561              \n",
              "1903 236               236               235               234              \n",
              "     scan_mir.3994_abs scan_mir.3996_abs scan_mir.3998_abs scan_mir.4000_abs\n",
              "1    251               252               253               253              \n",
              "2    235               235               235               235              \n",
              "3    255               255               254               254              \n",
              "4    284               284               283               283              \n",
              "5    300               300               299               299              \n",
              "6    337               336               336               335              \n",
              "7    286               286               286               285              \n",
              "8    262               262               262               261              \n",
              "9    360               359               359               358              \n",
              "10   271               270               270               270              \n",
              "11   307               307               306               306              \n",
              "12   276               276               275               275              \n",
              "13   330               330               330               329              \n",
              "14   248               248               248               247              \n",
              "15   254               254               254               253              \n",
              "16   324               324               324               323              \n",
              "17   260               259               259               259              \n",
              "18   235               235               235               235              \n",
              "19   245               244               244               243              \n",
              "20   256               256               256               255              \n",
              "21   313               313               313               313              \n",
              "22   219               219               218               218              \n",
              "23   326               326               325               325              \n",
              "24   291               290               290               289              \n",
              "25   281               280               280               280              \n",
              "26   276               276               276               276              \n",
              "27   288               288               287               287              \n",
              "28   253               252               252               251              \n",
              "29   430               429               428               427              \n",
              "30   438               438               437               436              \n",
              "⋮    ⋮                 ⋮                 ⋮                 ⋮                \n",
              "1874 488               487               487               487              \n",
              "1875 218               218               217               216              \n",
              "1876 571               571               570               569              \n",
              "1877 207               206               206               204              \n",
              "1878 511               510               510               509              \n",
              "1879 192               191               190               189              \n",
              "1880 541               541               540               540              \n",
              "1881 249               248               247               246              \n",
              "1882 441               440               440               439              \n",
              "1883 170               170               169               168              \n",
              "1884 454               453               453               452              \n",
              "1885 203               203               202               201              \n",
              "1886 534               533               533               533              \n",
              "1887 236               235               235               234              \n",
              "1888 475               474               474               473              \n",
              "1889 209               208               208               207              \n",
              "1890 488               488               487               487              \n",
              "1891 192               192               191               190              \n",
              "1892 545               544               544               544              \n",
              "1893 198               198               197               196              \n",
              "1894 429               429               429               428              \n",
              "1895 238               237               237               236              \n",
              "1896 428               428               427               427              \n",
              "1897 232               232               231               230              \n",
              "1898 521               520               520               519              \n",
              "1899 263               262               262               261              \n",
              "1900 439               439               438               438              \n",
              "1901 298               297               297               296              \n",
              "1902 561               560               560               559              \n",
              "1903 233               233               232               231              "
            ],
            "text/latex": "A data.frame: 1903 × 1703\n\\begin{tabular}{lllllllllllllllllllll}\n id.layer\\_local\\_c & mirmodel.code\\_any\\_c & scan\\_mir.600\\_abs & scan\\_mir.602\\_abs & scan\\_mir.604\\_abs & scan\\_mir.606\\_abs & scan\\_mir.608\\_abs & scan\\_mir.610\\_abs & scan\\_mir.612\\_abs & scan\\_mir.614\\_abs & ⋯ & scan\\_mir.3982\\_abs & scan\\_mir.3984\\_abs & scan\\_mir.3986\\_abs & scan\\_mir.3988\\_abs & scan\\_mir.3990\\_abs & scan\\_mir.3992\\_abs & scan\\_mir.3994\\_abs & scan\\_mir.3996\\_abs & scan\\_mir.3998\\_abs & scan\\_mir.4000\\_abs\\\\\n <chr> & <chr> & <dbl> & <dbl> & <dbl> & <dbl> & <dbl> & <dbl> & <dbl> & <dbl> & ⋯ & <dbl> & <dbl> & <dbl> & <dbl> & <dbl> & <dbl> & <dbl> & <dbl> & <dbl> & <dbl>\\\\\n\\hline\n\t bol\\_1x\\_mcrz\\_50 & Bruker\\_Vertex\\_70.HTS.XT & 1683 & 1666 & 1643 & 1632 & 1628 & 1626 & 1625 & 1622 & ⋯ & 254 & 254 & 253 & 253 & 252 & 251 & 251 & 252 & 253 & 253\\\\\n\t bol\\_2x\\_mcrz\\_20 & Bruker\\_Vertex\\_70.HTS.XT & 1612 & 1597 & 1591 & 1589 & 1583 & 1574 & 1563 & 1550 & ⋯ & 237 & 237 & 237 & 236 & 236 & 236 & 235 & 235 & 235 & 235\\\\\n\t bon\\_1x\\_mcrz\\_20 & Bruker\\_Vertex\\_70.HTS.XT & 1661 & 1662 & 1660 & 1647 & 1634 & 1620 & 1600 & 1580 & ⋯ & 257 & 257 & 256 & 256 & 256 & 255 & 255 & 255 & 254 & 254\\\\\n\t bon\\_pp\\_mcar\\_50 & Bruker\\_Vertex\\_70.HTS.XT & 1755 & 1759 & 1754 & 1744 & 1729 & 1709 & 1689 & 1670 & ⋯ & 287 & 287 & 286 & 286 & 285 & 285 & 284 & 284 & 283 & 283\\\\\n\t bon\\_2x\\_mcrz\\_20 & Bruker\\_Vertex\\_70.HTS.XT & 1755 & 1745 & 1745 & 1744 & 1737 & 1728 & 1723 & 1727 & ⋯ & 302 & 302 & 302 & 301 & 301 & 301 & 300 & 300 & 299 & 299\\\\\n\t ctr\\_in\\_arar\\_50 & Bruker\\_Vertex\\_70.HTS.XT & 1773 & 1770 & 1767 & 1772 & 1781 & 1786 & 1790 & 1798 & ⋯ & 342 & 341 & 340 & 339 & 338 & 338 & 337 & 336 & 336 & 335\\\\\n\t ctr\\_in\\_msms\\_20 & Bruker\\_Vertex\\_70.HTS.XT & 1761 & 1753 & 1757 & 1757 & 1749 & 1733 & 1713 & 1696 & ⋯ & 289 & 289 & 288 & 288 & 287 & 287 & 286 & 286 & 286 & 285\\\\\n\t ctr\\_in\\_nbnb\\_20 & Bruker\\_Vertex\\_70.HTS.XT & 1690 & 1687 & 1692 & 1689 & 1680 & 1680 & 1689 & 1691 & ⋯ & 265 & 265 & 264 & 264 & 263 & 263 & 262 & 262 & 262 & 261\\\\\n\t ctr\\_in\\_rzrz\\_50 & Bruker\\_Vertex\\_70.HTS.XT & 1802 & 1813 & 1815 & 1810 & 1799 & 1788 & 1791 & 1802 & ⋯ & 365 & 364 & 363 & 362 & 361 & 361 & 360 & 359 & 359 & 358\\\\\n\t lif\\_s1\\_msms\\_20 & Bruker\\_Vertex\\_70.HTS.XT & 1735 & 1731 & 1717 & 1709 & 1694 & 1669 & 1655 & 1662 & ⋯ & 273 & 273 & 272 & 272 & 272 & 271 & 271 & 270 & 270 & 270\\\\\n\t lif\\_s3\\_arar\\_20 & Bruker\\_Vertex\\_70.HTS.XT & 1817 & 1817 & 1824 & 1834 & 1839 & 1838 & 1828 & 1815 & ⋯ & 310 & 310 & 309 & 309 & 308 & 307 & 307 & 307 & 306 & 306\\\\\n\t lif\\_s3\\_mcar\\_20 & Bruker\\_Vertex\\_70.HTS.XT & 1746 & 1743 & 1722 & 1701 & 1697 & 1695 & 1681 & 1669 & ⋯ & 278 & 278 & 278 & 277 & 277 & 276 & 276 & 276 & 275 & 275\\\\\n\t lif\\_s3\\_mcmc\\_20 & Bruker\\_Vertex\\_70.HTS.XT & 1830 & 1823 & 1833 & 1854 & 1868 & 1862 & 1848 & 1830 & ⋯ & 333 & 332 & 332 & 332 & 331 & 331 & 330 & 330 & 330 & 329\\\\\n\t lil\\_1x\\_mcms\\_20 & Bruker\\_Vertex\\_70.HTS.XT & 1688 & 1679 & 1662 & 1648 & 1639 & 1628 & 1610 & 1595 & ⋯ & 250 & 249 & 249 & 249 & 249 & 248 & 248 & 248 & 248 & 247\\\\\n\t lil\\_pp\\_mcar\\_20 & Bruker\\_Vertex\\_70.HTS.XT & 1643 & 1642 & 1646 & 1642 & 1628 & 1610 & 1596 & 1591 & ⋯ & 256 & 256 & 255 & 255 & 255 & 255 & 254 & 254 & 254 & 253\\\\\n\t lil\\_s2\\_mcmc\\_20 & Bruker\\_Vertex\\_70.HTS.XT & 1707 & 1706 & 1716 & 1718 & 1698 & 1677 & 1665 & 1658 & ⋯ & 325 & 324 & 324 & 324 & 324 & 324 & 324 & 324 & 324 & 323\\\\\n\t lil\\_s3\\_mcar\\_20 & Bruker\\_Vertex\\_70.HTS.XT & 1647 & 1647 & 1646 & 1637 & 1624 & 1611 & 1599 & 1584 & ⋯ & 261 & 261 & 261 & 260 & 260 & 260 & 260 & 259 & 259 & 259\\\\\n\t lil\\_s3\\_mcms\\_50 & Bruker\\_Vertex\\_70.HTS.XT & 1651 & 1649 & 1639 & 1621 & 1599 & 1579 & 1563 & 1550 & ⋯ & 237 & 237 & 237 & 236 & 236 & 236 & 235 & 235 & 235 & 235\\\\\n\t wak\\_in\\_mcrz\\_20 & Bruker\\_Vertex\\_70.HTS.XT & 1704 & 1696 & 1676 & 1656 & 1652 & 1652 & 1642 & 1629 & ⋯ & 247 & 247 & 246 & 246 & 245 & 245 & 245 & 244 & 244 & 243\\\\\n\t wak\\_in\\_mmnb\\_50 & Bruker\\_Vertex\\_70.HTS.XT & 1683 & 1683 & 1678 & 1665 & 1653 & 1648 & 1645 & 1632 & ⋯ & 258 & 258 & 257 & 257 & 257 & 256 & 256 & 256 & 256 & 255\\\\\n\t wak\\_in\\_nbnb\\_20 & Bruker\\_Vertex\\_70.HTS.XT & 1750 & 1757 & 1767 & 1766 & 1744 & 1723 & 1719 & 1720 & ⋯ & 315 & 315 & 315 & 314 & 314 & 314 & 313 & 313 & 313 & 313\\\\\n\t wak\\_in\\_rzrz\\_50 & Bruker\\_Vertex\\_70.HTS.XT & 1623 & 1625 & 1620 & 1604 & 1591 & 1581 & 1570 & 1558 & ⋯ & 221 & 221 & 220 & 220 & 219 & 219 & 219 & 219 & 218 & 218\\\\\n\t yal\\_s0\\_arar\\_20 & Bruker\\_Vertex\\_70.HTS.XT & 1781 & 1782 & 1789 & 1794 & 1800 & 1803 & 1801 & 1791 & ⋯ & 328 & 328 & 328 & 327 & 327 & 326 & 326 & 326 & 325 & 325\\\\\n\t yal\\_s2\\_msms\\_20 & Bruker\\_Vertex\\_70.HTS.XT & 1706 & 1689 & 1677 & 1676 & 1681 & 1679 & 1664 & 1644 & ⋯ & 292 & 292 & 292 & 292 & 291 & 291 & 291 & 290 & 290 & 289\\\\\n\t yal\\_s2\\_rzrz\\_20 & Bruker\\_Vertex\\_70.HTS.XT & 1660 & 1655 & 1653 & 1649 & 1635 & 1617 & 1610 & 1615 & ⋯ & 283 & 282 & 282 & 282 & 281 & 281 & 281 & 280 & 280 & 280\\\\\n\t yol\\_1x\\_mcrz\\_50 & Bruker\\_Vertex\\_70.HTS.XT & 1703 & 1695 & 1689 & 1687 & 1680 & 1662 & 1646 & 1639 & ⋯ & 279 & 278 & 278 & 278 & 277 & 277 & 276 & 276 & 276 & 276\\\\\n\t yol\\_2x\\_mcar\\_20 & Bruker\\_Vertex\\_70.HTS.XT & 1714 & 1714 & 1705 & 1691 & 1679 & 1678 & 1677 & 1663 & ⋯ & 290 & 289 & 289 & 289 & 289 & 288 & 288 & 288 & 287 & 287\\\\\n\t yol\\_pp\\_mcar\\_50 & Bruker\\_Vertex\\_70.HTS.XT & 1620 & 1605 & 1590 & 1581 & 1575 & 1569 & 1559 & 1547 & ⋯ & 254 & 254 & 254 & 253 & 253 & 253 & 253 & 252 & 252 & 251\\\\\n\t yol\\_ni\\_arar\\_50 & Bruker\\_Vertex\\_70.HTS.XT & 1898 & 1910 & 1919 & 1915 & 1914 & 1934 & 1966 & 1990 & ⋯ & 436 & 435 & 434 & 433 & 432 & 431 & 430 & 429 & 428 & 427\\\\\n\t yol\\_ni\\_mcar\\_50 & Bruker\\_Vertex\\_70.HTS.XT & 1881 & 1904 & 1920 & 1930 & 1920 & 1915 & 1932 & 1955 & ⋯ & 444 & 443 & 442 & 441 & 440 & 439 & 438 & 438 & 437 & 436\\\\\n\t ⋮ & ⋮ & ⋮ & ⋮ & ⋮ & ⋮ & ⋮ & ⋮ & ⋮ & ⋮ & ⋱ & ⋮ & ⋮ & ⋮ & ⋮ & ⋮ & ⋮ & ⋮ & ⋮ & ⋮ & ⋮\\\\\n\t 1004 & Bruker\\_Vertex\\_70.HTS.XT & 1924 & 1936 & 1952 & 1961 & 1972 & 1983 & 1981 & 1989 & ⋯ & 491 & 490 & 489 & 489 & 488 & 488 & 488 & 487 & 487 & 487\\\\\n\t 1004 & Bruker\\_Vertex\\_70.HTS.XT & 1612 & 1622 & 1636 & 1651 & 1667 & 1681 & 1694 & 1704 & ⋯ & 222 & 221 & 221 & 221 & 220 & 219 & 218 & 218 & 217 & 216\\\\\n\t 1005 & Bruker\\_Vertex\\_70.HTS.XT & 1920 & 1943 & 1960 & 1962 & 1959 & 1968 & 2005 & 2062 & ⋯ & 574 & 573 & 573 & 572 & 572 & 571 & 571 & 571 & 570 & 569\\\\\n\t 1005 & Bruker\\_Vertex\\_70.HTS.XT & 1629 & 1637 & 1649 & 1664 & 1681 & 1695 & 1707 & 1716 & ⋯ & 211 & 210 & 210 & 209 & 209 & 208 & 207 & 206 & 206 & 204\\\\\n\t 1006 & Bruker\\_Vertex\\_70.HTS.XT & 1907 & 1916 & 1931 & 1942 & 1954 & 1968 & 1984 & 2008 & ⋯ & 514 & 513 & 513 & 512 & 512 & 511 & 511 & 510 & 510 & 509\\\\\n\t 1006 & Bruker\\_Vertex\\_70.HTS.XT & 1574 & 1584 & 1597 & 1611 & 1627 & 1643 & 1657 & 1669 & ⋯ & 195 & 195 & 194 & 194 & 193 & 192 & 192 & 191 & 190 & 189\\\\\n\t 1007 & Bruker\\_Vertex\\_70.HTS.XT & 1880 & 1897 & 1909 & 1920 & 1944 & 1959 & 1964 & 1988 & ⋯ & 544 & 543 & 543 & 542 & 542 & 542 & 541 & 541 & 540 & 540\\\\\n\t 1007 & Bruker\\_Vertex\\_70.HTS.XT & 1582 & 1595 & 1611 & 1627 & 1644 & 1660 & 1675 & 1687 & ⋯ & 252 & 252 & 252 & 251 & 250 & 249 & 249 & 248 & 247 & 246\\\\\n\t 1008 & Bruker\\_Vertex\\_70.HTS.XT & 1882 & 1897 & 1910 & 1923 & 1934 & 1942 & 1945 & 1956 & ⋯ & 443 & 443 & 442 & 442 & 441 & 441 & 441 & 440 & 440 & 439\\\\\n\t 1008 & Bruker\\_Vertex\\_70.HTS.XT & 1518 & 1529 & 1543 & 1559 & 1577 & 1593 & 1607 & 1618 & ⋯ & 174 & 174 & 173 & 173 & 172 & 171 & 170 & 170 & 169 & 168\\\\\n\t 1009 & Bruker\\_Vertex\\_70.HTS.XT & 1934 & 1934 & 1942 & 1963 & 1977 & 1976 & 1972 & 1988 & ⋯ & 457 & 456 & 456 & 455 & 455 & 454 & 454 & 453 & 453 & 452\\\\\n\t 1009 & Bruker\\_Vertex\\_70.HTS.XT & 1568 & 1578 & 1591 & 1606 & 1620 & 1633 & 1646 & 1656 & ⋯ & 207 & 206 & 206 & 206 & 205 & 204 & 203 & 203 & 202 & 201\\\\\n\t 1010 & Bruker\\_Vertex\\_70.HTS.XT & 1928 & 1928 & 1947 & 1983 & 2020 & 2036 & 2019 & 2003 & ⋯ & 536 & 536 & 535 & 535 & 535 & 534 & 534 & 533 & 533 & 533\\\\\n\t 1010 & Bruker\\_Vertex\\_70.HTS.XT & 1604 & 1617 & 1631 & 1645 & 1660 & 1674 & 1688 & 1700 & ⋯ & 240 & 239 & 239 & 238 & 238 & 237 & 236 & 235 & 235 & 234\\\\\n\t 1011 & Bruker\\_Vertex\\_70.HTS.XT & 1844 & 1866 & 1905 & 1938 & 1952 & 1950 & 1934 & 1917 & ⋯ & 478 & 477 & 477 & 476 & 476 & 475 & 475 & 474 & 474 & 473\\\\\n\t 1011 & Bruker\\_Vertex\\_70.HTS.XT & 1598 & 1607 & 1619 & 1634 & 1650 & 1665 & 1678 & 1688 & ⋯ & 213 & 212 & 212 & 211 & 211 & 210 & 209 & 208 & 208 & 207\\\\\n\t 1012 & Bruker\\_Vertex\\_70.HTS.XT & 1829 & 1832 & 1845 & 1855 & 1865 & 1880 & 1903 & 1932 & ⋯ & 492 & 491 & 490 & 490 & 489 & 488 & 488 & 488 & 487 & 487\\\\\n\t 1012 & Bruker\\_Vertex\\_70.HTS.XT & 1500 & 1507 & 1519 & 1534 & 1550 & 1566 & 1579 & 1589 & ⋯ & 196 & 195 & 195 & 194 & 194 & 193 & 192 & 192 & 191 & 190\\\\\n\t 1013 & Bruker\\_Vertex\\_70.HTS.XT & 1917 & 1925 & 1935 & 1968 & 2008 & 2017 & 1995 & 1988 & ⋯ & 548 & 547 & 547 & 547 & 546 & 545 & 545 & 544 & 544 & 544\\\\\n\t 1013 & Bruker\\_Vertex\\_70.HTS.XT & 1539 & 1550 & 1563 & 1577 & 1591 & 1604 & 1616 & 1625 & ⋯ & 201 & 201 & 201 & 200 & 200 & 199 & 198 & 198 & 197 & 196\\\\\n\t 1014 & Bruker\\_Vertex\\_70.HTS.XT & 1898 & 1892 & 1894 & 1917 & 1946 & 1956 & 1958 & 1983 & ⋯ & 433 & 433 & 432 & 432 & 431 & 430 & 429 & 429 & 429 & 428\\\\\n\t 1014 & Bruker\\_Vertex\\_70.HTS.XT & 1564 & 1573 & 1584 & 1597 & 1612 & 1627 & 1640 & 1649 & ⋯ & 241 & 241 & 240 & 240 & 239 & 238 & 238 & 237 & 237 & 236\\\\\n\t 1015 & Bruker\\_Vertex\\_70.HTS.XT & 1870 & 1903 & 1924 & 1939 & 1949 & 1971 & 2011 & 2039 & ⋯ & 432 & 431 & 430 & 430 & 429 & 429 & 428 & 428 & 427 & 427\\\\\n\t 1015 & Bruker\\_Vertex\\_70.HTS.XT & 1639 & 1652 & 1665 & 1679 & 1694 & 1709 & 1722 & 1734 & ⋯ & 236 & 236 & 235 & 235 & 234 & 233 & 232 & 232 & 231 & 230\\\\\n\t 1016 & Bruker\\_Vertex\\_70.HTS.XT & 1788 & 1792 & 1810 & 1824 & 1844 & 1869 & 1875 & 1878 & ⋯ & 525 & 524 & 524 & 523 & 522 & 522 & 521 & 520 & 520 & 519\\\\\n\t 1016 & Bruker\\_Vertex\\_70.HTS.XT & 1616 & 1626 & 1641 & 1657 & 1674 & 1689 & 1702 & 1714 & ⋯ & 267 & 267 & 266 & 266 & 265 & 264 & 263 & 262 & 262 & 261\\\\\n\t 1017 & Bruker\\_Vertex\\_70.HTS.XT & 1835 & 1859 & 1901 & 1930 & 1949 & 1959 & 1961 & 1971 & ⋯ & 442 & 442 & 441 & 441 & 441 & 440 & 439 & 439 & 438 & 438\\\\\n\t 1017 & Bruker\\_Vertex\\_70.HTS.XT & 1668 & 1679 & 1693 & 1709 & 1724 & 1740 & 1754 & 1767 & ⋯ & 302 & 302 & 301 & 301 & 300 & 299 & 298 & 297 & 297 & 296\\\\\n\t 1018 & Bruker\\_Vertex\\_70.HTS.XT & 1952 & 1960 & 1967 & 1969 & 1980 & 2004 & 2030 & 2070 & ⋯ & 563 & 563 & 562 & 562 & 561 & 561 & 561 & 560 & 560 & 559\\\\\n\t 1018 & Bruker\\_Vertex\\_70.HTS.XT & 1615 & 1624 & 1636 & 1650 & 1666 & 1680 & 1691 & 1701 & ⋯ & 237 & 237 & 236 & 236 & 235 & 234 & 233 & 233 & 232 & 231\\\\\n\\end{tabular}\n",
            "text/markdown": "\nA data.frame: 1903 × 1703\n\n| id.layer_local_c &lt;chr&gt; | mirmodel.code_any_c &lt;chr&gt; | scan_mir.600_abs &lt;dbl&gt; | scan_mir.602_abs &lt;dbl&gt; | scan_mir.604_abs &lt;dbl&gt; | scan_mir.606_abs &lt;dbl&gt; | scan_mir.608_abs &lt;dbl&gt; | scan_mir.610_abs &lt;dbl&gt; | scan_mir.612_abs &lt;dbl&gt; | scan_mir.614_abs &lt;dbl&gt; | ⋯ ⋯ | scan_mir.3982_abs &lt;dbl&gt; | scan_mir.3984_abs &lt;dbl&gt; | scan_mir.3986_abs &lt;dbl&gt; | scan_mir.3988_abs &lt;dbl&gt; | scan_mir.3990_abs &lt;dbl&gt; | scan_mir.3992_abs &lt;dbl&gt; | scan_mir.3994_abs &lt;dbl&gt; | scan_mir.3996_abs &lt;dbl&gt; | scan_mir.3998_abs &lt;dbl&gt; | scan_mir.4000_abs &lt;dbl&gt; |\n|---|---|---|---|---|---|---|---|---|---|---|---|---|---|---|---|---|---|---|---|---|\n| bol_1x_mcrz_50 | Bruker_Vertex_70.HTS.XT | 1683 | 1666 | 1643 | 1632 | 1628 | 1626 | 1625 | 1622 | ⋯ | 254 | 254 | 253 | 253 | 252 | 251 | 251 | 252 | 253 | 253 |\n| bol_2x_mcrz_20 | Bruker_Vertex_70.HTS.XT | 1612 | 1597 | 1591 | 1589 | 1583 | 1574 | 1563 | 1550 | ⋯ | 237 | 237 | 237 | 236 | 236 | 236 | 235 | 235 | 235 | 235 |\n| bon_1x_mcrz_20 | Bruker_Vertex_70.HTS.XT | 1661 | 1662 | 1660 | 1647 | 1634 | 1620 | 1600 | 1580 | ⋯ | 257 | 257 | 256 | 256 | 256 | 255 | 255 | 255 | 254 | 254 |\n| bon_pp_mcar_50 | Bruker_Vertex_70.HTS.XT | 1755 | 1759 | 1754 | 1744 | 1729 | 1709 | 1689 | 1670 | ⋯ | 287 | 287 | 286 | 286 | 285 | 285 | 284 | 284 | 283 | 283 |\n| bon_2x_mcrz_20 | Bruker_Vertex_70.HTS.XT | 1755 | 1745 | 1745 | 1744 | 1737 | 1728 | 1723 | 1727 | ⋯ | 302 | 302 | 302 | 301 | 301 | 301 | 300 | 300 | 299 | 299 |\n| ctr_in_arar_50 | Bruker_Vertex_70.HTS.XT | 1773 | 1770 | 1767 | 1772 | 1781 | 1786 | 1790 | 1798 | ⋯ | 342 | 341 | 340 | 339 | 338 | 338 | 337 | 336 | 336 | 335 |\n| ctr_in_msms_20 | Bruker_Vertex_70.HTS.XT | 1761 | 1753 | 1757 | 1757 | 1749 | 1733 | 1713 | 1696 | ⋯ | 289 | 289 | 288 | 288 | 287 | 287 | 286 | 286 | 286 | 285 |\n| ctr_in_nbnb_20 | Bruker_Vertex_70.HTS.XT | 1690 | 1687 | 1692 | 1689 | 1680 | 1680 | 1689 | 1691 | ⋯ | 265 | 265 | 264 | 264 | 263 | 263 | 262 | 262 | 262 | 261 |\n| ctr_in_rzrz_50 | Bruker_Vertex_70.HTS.XT | 1802 | 1813 | 1815 | 1810 | 1799 | 1788 | 1791 | 1802 | ⋯ | 365 | 364 | 363 | 362 | 361 | 361 | 360 | 359 | 359 | 358 |\n| lif_s1_msms_20 | Bruker_Vertex_70.HTS.XT | 1735 | 1731 | 1717 | 1709 | 1694 | 1669 | 1655 | 1662 | ⋯ | 273 | 273 | 272 | 272 | 272 | 271 | 271 | 270 | 270 | 270 |\n| lif_s3_arar_20 | Bruker_Vertex_70.HTS.XT | 1817 | 1817 | 1824 | 1834 | 1839 | 1838 | 1828 | 1815 | ⋯ | 310 | 310 | 309 | 309 | 308 | 307 | 307 | 307 | 306 | 306 |\n| lif_s3_mcar_20 | Bruker_Vertex_70.HTS.XT | 1746 | 1743 | 1722 | 1701 | 1697 | 1695 | 1681 | 1669 | ⋯ | 278 | 278 | 278 | 277 | 277 | 276 | 276 | 276 | 275 | 275 |\n| lif_s3_mcmc_20 | Bruker_Vertex_70.HTS.XT | 1830 | 1823 | 1833 | 1854 | 1868 | 1862 | 1848 | 1830 | ⋯ | 333 | 332 | 332 | 332 | 331 | 331 | 330 | 330 | 330 | 329 |\n| lil_1x_mcms_20 | Bruker_Vertex_70.HTS.XT | 1688 | 1679 | 1662 | 1648 | 1639 | 1628 | 1610 | 1595 | ⋯ | 250 | 249 | 249 | 249 | 249 | 248 | 248 | 248 | 248 | 247 |\n| lil_pp_mcar_20 | Bruker_Vertex_70.HTS.XT | 1643 | 1642 | 1646 | 1642 | 1628 | 1610 | 1596 | 1591 | ⋯ | 256 | 256 | 255 | 255 | 255 | 255 | 254 | 254 | 254 | 253 |\n| lil_s2_mcmc_20 | Bruker_Vertex_70.HTS.XT | 1707 | 1706 | 1716 | 1718 | 1698 | 1677 | 1665 | 1658 | ⋯ | 325 | 324 | 324 | 324 | 324 | 324 | 324 | 324 | 324 | 323 |\n| lil_s3_mcar_20 | Bruker_Vertex_70.HTS.XT | 1647 | 1647 | 1646 | 1637 | 1624 | 1611 | 1599 | 1584 | ⋯ | 261 | 261 | 261 | 260 | 260 | 260 | 260 | 259 | 259 | 259 |\n| lil_s3_mcms_50 | Bruker_Vertex_70.HTS.XT | 1651 | 1649 | 1639 | 1621 | 1599 | 1579 | 1563 | 1550 | ⋯ | 237 | 237 | 237 | 236 | 236 | 236 | 235 | 235 | 235 | 235 |\n| wak_in_mcrz_20 | Bruker_Vertex_70.HTS.XT | 1704 | 1696 | 1676 | 1656 | 1652 | 1652 | 1642 | 1629 | ⋯ | 247 | 247 | 246 | 246 | 245 | 245 | 245 | 244 | 244 | 243 |\n| wak_in_mmnb_50 | Bruker_Vertex_70.HTS.XT | 1683 | 1683 | 1678 | 1665 | 1653 | 1648 | 1645 | 1632 | ⋯ | 258 | 258 | 257 | 257 | 257 | 256 | 256 | 256 | 256 | 255 |\n| wak_in_nbnb_20 | Bruker_Vertex_70.HTS.XT | 1750 | 1757 | 1767 | 1766 | 1744 | 1723 | 1719 | 1720 | ⋯ | 315 | 315 | 315 | 314 | 314 | 314 | 313 | 313 | 313 | 313 |\n| wak_in_rzrz_50 | Bruker_Vertex_70.HTS.XT | 1623 | 1625 | 1620 | 1604 | 1591 | 1581 | 1570 | 1558 | ⋯ | 221 | 221 | 220 | 220 | 219 | 219 | 219 | 219 | 218 | 218 |\n| yal_s0_arar_20 | Bruker_Vertex_70.HTS.XT | 1781 | 1782 | 1789 | 1794 | 1800 | 1803 | 1801 | 1791 | ⋯ | 328 | 328 | 328 | 327 | 327 | 326 | 326 | 326 | 325 | 325 |\n| yal_s2_msms_20 | Bruker_Vertex_70.HTS.XT | 1706 | 1689 | 1677 | 1676 | 1681 | 1679 | 1664 | 1644 | ⋯ | 292 | 292 | 292 | 292 | 291 | 291 | 291 | 290 | 290 | 289 |\n| yal_s2_rzrz_20 | Bruker_Vertex_70.HTS.XT | 1660 | 1655 | 1653 | 1649 | 1635 | 1617 | 1610 | 1615 | ⋯ | 283 | 282 | 282 | 282 | 281 | 281 | 281 | 280 | 280 | 280 |\n| yol_1x_mcrz_50 | Bruker_Vertex_70.HTS.XT | 1703 | 1695 | 1689 | 1687 | 1680 | 1662 | 1646 | 1639 | ⋯ | 279 | 278 | 278 | 278 | 277 | 277 | 276 | 276 | 276 | 276 |\n| yol_2x_mcar_20 | Bruker_Vertex_70.HTS.XT | 1714 | 1714 | 1705 | 1691 | 1679 | 1678 | 1677 | 1663 | ⋯ | 290 | 289 | 289 | 289 | 289 | 288 | 288 | 288 | 287 | 287 |\n| yol_pp_mcar_50 | Bruker_Vertex_70.HTS.XT | 1620 | 1605 | 1590 | 1581 | 1575 | 1569 | 1559 | 1547 | ⋯ | 254 | 254 | 254 | 253 | 253 | 253 | 253 | 252 | 252 | 251 |\n| yol_ni_arar_50 | Bruker_Vertex_70.HTS.XT | 1898 | 1910 | 1919 | 1915 | 1914 | 1934 | 1966 | 1990 | ⋯ | 436 | 435 | 434 | 433 | 432 | 431 | 430 | 429 | 428 | 427 |\n| yol_ni_mcar_50 | Bruker_Vertex_70.HTS.XT | 1881 | 1904 | 1920 | 1930 | 1920 | 1915 | 1932 | 1955 | ⋯ | 444 | 443 | 442 | 441 | 440 | 439 | 438 | 438 | 437 | 436 |\n| ⋮ | ⋮ | ⋮ | ⋮ | ⋮ | ⋮ | ⋮ | ⋮ | ⋮ | ⋮ | ⋱ | ⋮ | ⋮ | ⋮ | ⋮ | ⋮ | ⋮ | ⋮ | ⋮ | ⋮ | ⋮ |\n| 1004 | Bruker_Vertex_70.HTS.XT | 1924 | 1936 | 1952 | 1961 | 1972 | 1983 | 1981 | 1989 | ⋯ | 491 | 490 | 489 | 489 | 488 | 488 | 488 | 487 | 487 | 487 |\n| 1004 | Bruker_Vertex_70.HTS.XT | 1612 | 1622 | 1636 | 1651 | 1667 | 1681 | 1694 | 1704 | ⋯ | 222 | 221 | 221 | 221 | 220 | 219 | 218 | 218 | 217 | 216 |\n| 1005 | Bruker_Vertex_70.HTS.XT | 1920 | 1943 | 1960 | 1962 | 1959 | 1968 | 2005 | 2062 | ⋯ | 574 | 573 | 573 | 572 | 572 | 571 | 571 | 571 | 570 | 569 |\n| 1005 | Bruker_Vertex_70.HTS.XT | 1629 | 1637 | 1649 | 1664 | 1681 | 1695 | 1707 | 1716 | ⋯ | 211 | 210 | 210 | 209 | 209 | 208 | 207 | 206 | 206 | 204 |\n| 1006 | Bruker_Vertex_70.HTS.XT | 1907 | 1916 | 1931 | 1942 | 1954 | 1968 | 1984 | 2008 | ⋯ | 514 | 513 | 513 | 512 | 512 | 511 | 511 | 510 | 510 | 509 |\n| 1006 | Bruker_Vertex_70.HTS.XT | 1574 | 1584 | 1597 | 1611 | 1627 | 1643 | 1657 | 1669 | ⋯ | 195 | 195 | 194 | 194 | 193 | 192 | 192 | 191 | 190 | 189 |\n| 1007 | Bruker_Vertex_70.HTS.XT | 1880 | 1897 | 1909 | 1920 | 1944 | 1959 | 1964 | 1988 | ⋯ | 544 | 543 | 543 | 542 | 542 | 542 | 541 | 541 | 540 | 540 |\n| 1007 | Bruker_Vertex_70.HTS.XT | 1582 | 1595 | 1611 | 1627 | 1644 | 1660 | 1675 | 1687 | ⋯ | 252 | 252 | 252 | 251 | 250 | 249 | 249 | 248 | 247 | 246 |\n| 1008 | Bruker_Vertex_70.HTS.XT | 1882 | 1897 | 1910 | 1923 | 1934 | 1942 | 1945 | 1956 | ⋯ | 443 | 443 | 442 | 442 | 441 | 441 | 441 | 440 | 440 | 439 |\n| 1008 | Bruker_Vertex_70.HTS.XT | 1518 | 1529 | 1543 | 1559 | 1577 | 1593 | 1607 | 1618 | ⋯ | 174 | 174 | 173 | 173 | 172 | 171 | 170 | 170 | 169 | 168 |\n| 1009 | Bruker_Vertex_70.HTS.XT | 1934 | 1934 | 1942 | 1963 | 1977 | 1976 | 1972 | 1988 | ⋯ | 457 | 456 | 456 | 455 | 455 | 454 | 454 | 453 | 453 | 452 |\n| 1009 | Bruker_Vertex_70.HTS.XT | 1568 | 1578 | 1591 | 1606 | 1620 | 1633 | 1646 | 1656 | ⋯ | 207 | 206 | 206 | 206 | 205 | 204 | 203 | 203 | 202 | 201 |\n| 1010 | Bruker_Vertex_70.HTS.XT | 1928 | 1928 | 1947 | 1983 | 2020 | 2036 | 2019 | 2003 | ⋯ | 536 | 536 | 535 | 535 | 535 | 534 | 534 | 533 | 533 | 533 |\n| 1010 | Bruker_Vertex_70.HTS.XT | 1604 | 1617 | 1631 | 1645 | 1660 | 1674 | 1688 | 1700 | ⋯ | 240 | 239 | 239 | 238 | 238 | 237 | 236 | 235 | 235 | 234 |\n| 1011 | Bruker_Vertex_70.HTS.XT | 1844 | 1866 | 1905 | 1938 | 1952 | 1950 | 1934 | 1917 | ⋯ | 478 | 477 | 477 | 476 | 476 | 475 | 475 | 474 | 474 | 473 |\n| 1011 | Bruker_Vertex_70.HTS.XT | 1598 | 1607 | 1619 | 1634 | 1650 | 1665 | 1678 | 1688 | ⋯ | 213 | 212 | 212 | 211 | 211 | 210 | 209 | 208 | 208 | 207 |\n| 1012 | Bruker_Vertex_70.HTS.XT | 1829 | 1832 | 1845 | 1855 | 1865 | 1880 | 1903 | 1932 | ⋯ | 492 | 491 | 490 | 490 | 489 | 488 | 488 | 488 | 487 | 487 |\n| 1012 | Bruker_Vertex_70.HTS.XT | 1500 | 1507 | 1519 | 1534 | 1550 | 1566 | 1579 | 1589 | ⋯ | 196 | 195 | 195 | 194 | 194 | 193 | 192 | 192 | 191 | 190 |\n| 1013 | Bruker_Vertex_70.HTS.XT | 1917 | 1925 | 1935 | 1968 | 2008 | 2017 | 1995 | 1988 | ⋯ | 548 | 547 | 547 | 547 | 546 | 545 | 545 | 544 | 544 | 544 |\n| 1013 | Bruker_Vertex_70.HTS.XT | 1539 | 1550 | 1563 | 1577 | 1591 | 1604 | 1616 | 1625 | ⋯ | 201 | 201 | 201 | 200 | 200 | 199 | 198 | 198 | 197 | 196 |\n| 1014 | Bruker_Vertex_70.HTS.XT | 1898 | 1892 | 1894 | 1917 | 1946 | 1956 | 1958 | 1983 | ⋯ | 433 | 433 | 432 | 432 | 431 | 430 | 429 | 429 | 429 | 428 |\n| 1014 | Bruker_Vertex_70.HTS.XT | 1564 | 1573 | 1584 | 1597 | 1612 | 1627 | 1640 | 1649 | ⋯ | 241 | 241 | 240 | 240 | 239 | 238 | 238 | 237 | 237 | 236 |\n| 1015 | Bruker_Vertex_70.HTS.XT | 1870 | 1903 | 1924 | 1939 | 1949 | 1971 | 2011 | 2039 | ⋯ | 432 | 431 | 430 | 430 | 429 | 429 | 428 | 428 | 427 | 427 |\n| 1015 | Bruker_Vertex_70.HTS.XT | 1639 | 1652 | 1665 | 1679 | 1694 | 1709 | 1722 | 1734 | ⋯ | 236 | 236 | 235 | 235 | 234 | 233 | 232 | 232 | 231 | 230 |\n| 1016 | Bruker_Vertex_70.HTS.XT | 1788 | 1792 | 1810 | 1824 | 1844 | 1869 | 1875 | 1878 | ⋯ | 525 | 524 | 524 | 523 | 522 | 522 | 521 | 520 | 520 | 519 |\n| 1016 | Bruker_Vertex_70.HTS.XT | 1616 | 1626 | 1641 | 1657 | 1674 | 1689 | 1702 | 1714 | ⋯ | 267 | 267 | 266 | 266 | 265 | 264 | 263 | 262 | 262 | 261 |\n| 1017 | Bruker_Vertex_70.HTS.XT | 1835 | 1859 | 1901 | 1930 | 1949 | 1959 | 1961 | 1971 | ⋯ | 442 | 442 | 441 | 441 | 441 | 440 | 439 | 439 | 438 | 438 |\n| 1017 | Bruker_Vertex_70.HTS.XT | 1668 | 1679 | 1693 | 1709 | 1724 | 1740 | 1754 | 1767 | ⋯ | 302 | 302 | 301 | 301 | 300 | 299 | 298 | 297 | 297 | 296 |\n| 1018 | Bruker_Vertex_70.HTS.XT | 1952 | 1960 | 1967 | 1969 | 1980 | 2004 | 2030 | 2070 | ⋯ | 563 | 563 | 562 | 562 | 561 | 561 | 561 | 560 | 560 | 559 |\n| 1018 | Bruker_Vertex_70.HTS.XT | 1615 | 1624 | 1636 | 1650 | 1666 | 1680 | 1691 | 1701 | ⋯ | 237 | 237 | 236 | 236 | 235 | 234 | 233 | 233 | 232 | 231 |\n\n",
            "text/html": [
              "<table class=\"dataframe\">\n",
              "<caption>A data.frame: 1903 × 1703</caption>\n",
              "<thead>\n",
              "\t<tr><th scope=col>id.layer_local_c</th><th scope=col>mirmodel.code_any_c</th><th scope=col>scan_mir.600_abs</th><th scope=col>scan_mir.602_abs</th><th scope=col>scan_mir.604_abs</th><th scope=col>scan_mir.606_abs</th><th scope=col>scan_mir.608_abs</th><th scope=col>scan_mir.610_abs</th><th scope=col>scan_mir.612_abs</th><th scope=col>scan_mir.614_abs</th><th scope=col>⋯</th><th scope=col>scan_mir.3982_abs</th><th scope=col>scan_mir.3984_abs</th><th scope=col>scan_mir.3986_abs</th><th scope=col>scan_mir.3988_abs</th><th scope=col>scan_mir.3990_abs</th><th scope=col>scan_mir.3992_abs</th><th scope=col>scan_mir.3994_abs</th><th scope=col>scan_mir.3996_abs</th><th scope=col>scan_mir.3998_abs</th><th scope=col>scan_mir.4000_abs</th></tr>\n",
              "\t<tr><th scope=col>&lt;chr&gt;</th><th scope=col>&lt;chr&gt;</th><th scope=col>&lt;dbl&gt;</th><th scope=col>&lt;dbl&gt;</th><th scope=col>&lt;dbl&gt;</th><th scope=col>&lt;dbl&gt;</th><th scope=col>&lt;dbl&gt;</th><th scope=col>&lt;dbl&gt;</th><th scope=col>&lt;dbl&gt;</th><th scope=col>&lt;dbl&gt;</th><th scope=col>⋯</th><th scope=col>&lt;dbl&gt;</th><th scope=col>&lt;dbl&gt;</th><th scope=col>&lt;dbl&gt;</th><th scope=col>&lt;dbl&gt;</th><th scope=col>&lt;dbl&gt;</th><th scope=col>&lt;dbl&gt;</th><th scope=col>&lt;dbl&gt;</th><th scope=col>&lt;dbl&gt;</th><th scope=col>&lt;dbl&gt;</th><th scope=col>&lt;dbl&gt;</th></tr>\n",
              "</thead>\n",
              "<tbody>\n",
              "\t<tr><td>bol_1x_mcrz_50</td><td>Bruker_Vertex_70.HTS.XT</td><td>1683</td><td>1666</td><td>1643</td><td>1632</td><td>1628</td><td>1626</td><td>1625</td><td>1622</td><td>⋯</td><td>254</td><td>254</td><td>253</td><td>253</td><td>252</td><td>251</td><td>251</td><td>252</td><td>253</td><td>253</td></tr>\n",
              "\t<tr><td>bol_2x_mcrz_20</td><td>Bruker_Vertex_70.HTS.XT</td><td>1612</td><td>1597</td><td>1591</td><td>1589</td><td>1583</td><td>1574</td><td>1563</td><td>1550</td><td>⋯</td><td>237</td><td>237</td><td>237</td><td>236</td><td>236</td><td>236</td><td>235</td><td>235</td><td>235</td><td>235</td></tr>\n",
              "\t<tr><td>bon_1x_mcrz_20</td><td>Bruker_Vertex_70.HTS.XT</td><td>1661</td><td>1662</td><td>1660</td><td>1647</td><td>1634</td><td>1620</td><td>1600</td><td>1580</td><td>⋯</td><td>257</td><td>257</td><td>256</td><td>256</td><td>256</td><td>255</td><td>255</td><td>255</td><td>254</td><td>254</td></tr>\n",
              "\t<tr><td>bon_pp_mcar_50</td><td>Bruker_Vertex_70.HTS.XT</td><td>1755</td><td>1759</td><td>1754</td><td>1744</td><td>1729</td><td>1709</td><td>1689</td><td>1670</td><td>⋯</td><td>287</td><td>287</td><td>286</td><td>286</td><td>285</td><td>285</td><td>284</td><td>284</td><td>283</td><td>283</td></tr>\n",
              "\t<tr><td>bon_2x_mcrz_20</td><td>Bruker_Vertex_70.HTS.XT</td><td>1755</td><td>1745</td><td>1745</td><td>1744</td><td>1737</td><td>1728</td><td>1723</td><td>1727</td><td>⋯</td><td>302</td><td>302</td><td>302</td><td>301</td><td>301</td><td>301</td><td>300</td><td>300</td><td>299</td><td>299</td></tr>\n",
              "\t<tr><td>ctr_in_arar_50</td><td>Bruker_Vertex_70.HTS.XT</td><td>1773</td><td>1770</td><td>1767</td><td>1772</td><td>1781</td><td>1786</td><td>1790</td><td>1798</td><td>⋯</td><td>342</td><td>341</td><td>340</td><td>339</td><td>338</td><td>338</td><td>337</td><td>336</td><td>336</td><td>335</td></tr>\n",
              "\t<tr><td>ctr_in_msms_20</td><td>Bruker_Vertex_70.HTS.XT</td><td>1761</td><td>1753</td><td>1757</td><td>1757</td><td>1749</td><td>1733</td><td>1713</td><td>1696</td><td>⋯</td><td>289</td><td>289</td><td>288</td><td>288</td><td>287</td><td>287</td><td>286</td><td>286</td><td>286</td><td>285</td></tr>\n",
              "\t<tr><td>ctr_in_nbnb_20</td><td>Bruker_Vertex_70.HTS.XT</td><td>1690</td><td>1687</td><td>1692</td><td>1689</td><td>1680</td><td>1680</td><td>1689</td><td>1691</td><td>⋯</td><td>265</td><td>265</td><td>264</td><td>264</td><td>263</td><td>263</td><td>262</td><td>262</td><td>262</td><td>261</td></tr>\n",
              "\t<tr><td>ctr_in_rzrz_50</td><td>Bruker_Vertex_70.HTS.XT</td><td>1802</td><td>1813</td><td>1815</td><td>1810</td><td>1799</td><td>1788</td><td>1791</td><td>1802</td><td>⋯</td><td>365</td><td>364</td><td>363</td><td>362</td><td>361</td><td>361</td><td>360</td><td>359</td><td>359</td><td>358</td></tr>\n",
              "\t<tr><td>lif_s1_msms_20</td><td>Bruker_Vertex_70.HTS.XT</td><td>1735</td><td>1731</td><td>1717</td><td>1709</td><td>1694</td><td>1669</td><td>1655</td><td>1662</td><td>⋯</td><td>273</td><td>273</td><td>272</td><td>272</td><td>272</td><td>271</td><td>271</td><td>270</td><td>270</td><td>270</td></tr>\n",
              "\t<tr><td>lif_s3_arar_20</td><td>Bruker_Vertex_70.HTS.XT</td><td>1817</td><td>1817</td><td>1824</td><td>1834</td><td>1839</td><td>1838</td><td>1828</td><td>1815</td><td>⋯</td><td>310</td><td>310</td><td>309</td><td>309</td><td>308</td><td>307</td><td>307</td><td>307</td><td>306</td><td>306</td></tr>\n",
              "\t<tr><td>lif_s3_mcar_20</td><td>Bruker_Vertex_70.HTS.XT</td><td>1746</td><td>1743</td><td>1722</td><td>1701</td><td>1697</td><td>1695</td><td>1681</td><td>1669</td><td>⋯</td><td>278</td><td>278</td><td>278</td><td>277</td><td>277</td><td>276</td><td>276</td><td>276</td><td>275</td><td>275</td></tr>\n",
              "\t<tr><td>lif_s3_mcmc_20</td><td>Bruker_Vertex_70.HTS.XT</td><td>1830</td><td>1823</td><td>1833</td><td>1854</td><td>1868</td><td>1862</td><td>1848</td><td>1830</td><td>⋯</td><td>333</td><td>332</td><td>332</td><td>332</td><td>331</td><td>331</td><td>330</td><td>330</td><td>330</td><td>329</td></tr>\n",
              "\t<tr><td>lil_1x_mcms_20</td><td>Bruker_Vertex_70.HTS.XT</td><td>1688</td><td>1679</td><td>1662</td><td>1648</td><td>1639</td><td>1628</td><td>1610</td><td>1595</td><td>⋯</td><td>250</td><td>249</td><td>249</td><td>249</td><td>249</td><td>248</td><td>248</td><td>248</td><td>248</td><td>247</td></tr>\n",
              "\t<tr><td>lil_pp_mcar_20</td><td>Bruker_Vertex_70.HTS.XT</td><td>1643</td><td>1642</td><td>1646</td><td>1642</td><td>1628</td><td>1610</td><td>1596</td><td>1591</td><td>⋯</td><td>256</td><td>256</td><td>255</td><td>255</td><td>255</td><td>255</td><td>254</td><td>254</td><td>254</td><td>253</td></tr>\n",
              "\t<tr><td>lil_s2_mcmc_20</td><td>Bruker_Vertex_70.HTS.XT</td><td>1707</td><td>1706</td><td>1716</td><td>1718</td><td>1698</td><td>1677</td><td>1665</td><td>1658</td><td>⋯</td><td>325</td><td>324</td><td>324</td><td>324</td><td>324</td><td>324</td><td>324</td><td>324</td><td>324</td><td>323</td></tr>\n",
              "\t<tr><td>lil_s3_mcar_20</td><td>Bruker_Vertex_70.HTS.XT</td><td>1647</td><td>1647</td><td>1646</td><td>1637</td><td>1624</td><td>1611</td><td>1599</td><td>1584</td><td>⋯</td><td>261</td><td>261</td><td>261</td><td>260</td><td>260</td><td>260</td><td>260</td><td>259</td><td>259</td><td>259</td></tr>\n",
              "\t<tr><td>lil_s3_mcms_50</td><td>Bruker_Vertex_70.HTS.XT</td><td>1651</td><td>1649</td><td>1639</td><td>1621</td><td>1599</td><td>1579</td><td>1563</td><td>1550</td><td>⋯</td><td>237</td><td>237</td><td>237</td><td>236</td><td>236</td><td>236</td><td>235</td><td>235</td><td>235</td><td>235</td></tr>\n",
              "\t<tr><td>wak_in_mcrz_20</td><td>Bruker_Vertex_70.HTS.XT</td><td>1704</td><td>1696</td><td>1676</td><td>1656</td><td>1652</td><td>1652</td><td>1642</td><td>1629</td><td>⋯</td><td>247</td><td>247</td><td>246</td><td>246</td><td>245</td><td>245</td><td>245</td><td>244</td><td>244</td><td>243</td></tr>\n",
              "\t<tr><td>wak_in_mmnb_50</td><td>Bruker_Vertex_70.HTS.XT</td><td>1683</td><td>1683</td><td>1678</td><td>1665</td><td>1653</td><td>1648</td><td>1645</td><td>1632</td><td>⋯</td><td>258</td><td>258</td><td>257</td><td>257</td><td>257</td><td>256</td><td>256</td><td>256</td><td>256</td><td>255</td></tr>\n",
              "\t<tr><td>wak_in_nbnb_20</td><td>Bruker_Vertex_70.HTS.XT</td><td>1750</td><td>1757</td><td>1767</td><td>1766</td><td>1744</td><td>1723</td><td>1719</td><td>1720</td><td>⋯</td><td>315</td><td>315</td><td>315</td><td>314</td><td>314</td><td>314</td><td>313</td><td>313</td><td>313</td><td>313</td></tr>\n",
              "\t<tr><td>wak_in_rzrz_50</td><td>Bruker_Vertex_70.HTS.XT</td><td>1623</td><td>1625</td><td>1620</td><td>1604</td><td>1591</td><td>1581</td><td>1570</td><td>1558</td><td>⋯</td><td>221</td><td>221</td><td>220</td><td>220</td><td>219</td><td>219</td><td>219</td><td>219</td><td>218</td><td>218</td></tr>\n",
              "\t<tr><td>yal_s0_arar_20</td><td>Bruker_Vertex_70.HTS.XT</td><td>1781</td><td>1782</td><td>1789</td><td>1794</td><td>1800</td><td>1803</td><td>1801</td><td>1791</td><td>⋯</td><td>328</td><td>328</td><td>328</td><td>327</td><td>327</td><td>326</td><td>326</td><td>326</td><td>325</td><td>325</td></tr>\n",
              "\t<tr><td>yal_s2_msms_20</td><td>Bruker_Vertex_70.HTS.XT</td><td>1706</td><td>1689</td><td>1677</td><td>1676</td><td>1681</td><td>1679</td><td>1664</td><td>1644</td><td>⋯</td><td>292</td><td>292</td><td>292</td><td>292</td><td>291</td><td>291</td><td>291</td><td>290</td><td>290</td><td>289</td></tr>\n",
              "\t<tr><td>yal_s2_rzrz_20</td><td>Bruker_Vertex_70.HTS.XT</td><td>1660</td><td>1655</td><td>1653</td><td>1649</td><td>1635</td><td>1617</td><td>1610</td><td>1615</td><td>⋯</td><td>283</td><td>282</td><td>282</td><td>282</td><td>281</td><td>281</td><td>281</td><td>280</td><td>280</td><td>280</td></tr>\n",
              "\t<tr><td>yol_1x_mcrz_50</td><td>Bruker_Vertex_70.HTS.XT</td><td>1703</td><td>1695</td><td>1689</td><td>1687</td><td>1680</td><td>1662</td><td>1646</td><td>1639</td><td>⋯</td><td>279</td><td>278</td><td>278</td><td>278</td><td>277</td><td>277</td><td>276</td><td>276</td><td>276</td><td>276</td></tr>\n",
              "\t<tr><td>yol_2x_mcar_20</td><td>Bruker_Vertex_70.HTS.XT</td><td>1714</td><td>1714</td><td>1705</td><td>1691</td><td>1679</td><td>1678</td><td>1677</td><td>1663</td><td>⋯</td><td>290</td><td>289</td><td>289</td><td>289</td><td>289</td><td>288</td><td>288</td><td>288</td><td>287</td><td>287</td></tr>\n",
              "\t<tr><td>yol_pp_mcar_50</td><td>Bruker_Vertex_70.HTS.XT</td><td>1620</td><td>1605</td><td>1590</td><td>1581</td><td>1575</td><td>1569</td><td>1559</td><td>1547</td><td>⋯</td><td>254</td><td>254</td><td>254</td><td>253</td><td>253</td><td>253</td><td>253</td><td>252</td><td>252</td><td>251</td></tr>\n",
              "\t<tr><td>yol_ni_arar_50</td><td>Bruker_Vertex_70.HTS.XT</td><td>1898</td><td>1910</td><td>1919</td><td>1915</td><td>1914</td><td>1934</td><td>1966</td><td>1990</td><td>⋯</td><td>436</td><td>435</td><td>434</td><td>433</td><td>432</td><td>431</td><td>430</td><td>429</td><td>428</td><td>427</td></tr>\n",
              "\t<tr><td>yol_ni_mcar_50</td><td>Bruker_Vertex_70.HTS.XT</td><td>1881</td><td>1904</td><td>1920</td><td>1930</td><td>1920</td><td>1915</td><td>1932</td><td>1955</td><td>⋯</td><td>444</td><td>443</td><td>442</td><td>441</td><td>440</td><td>439</td><td>438</td><td>438</td><td>437</td><td>436</td></tr>\n",
              "\t<tr><td>⋮</td><td>⋮</td><td>⋮</td><td>⋮</td><td>⋮</td><td>⋮</td><td>⋮</td><td>⋮</td><td>⋮</td><td>⋮</td><td>⋱</td><td>⋮</td><td>⋮</td><td>⋮</td><td>⋮</td><td>⋮</td><td>⋮</td><td>⋮</td><td>⋮</td><td>⋮</td><td>⋮</td></tr>\n",
              "\t<tr><td>1004</td><td>Bruker_Vertex_70.HTS.XT</td><td>1924</td><td>1936</td><td>1952</td><td>1961</td><td>1972</td><td>1983</td><td>1981</td><td>1989</td><td>⋯</td><td>491</td><td>490</td><td>489</td><td>489</td><td>488</td><td>488</td><td>488</td><td>487</td><td>487</td><td>487</td></tr>\n",
              "\t<tr><td>1004</td><td>Bruker_Vertex_70.HTS.XT</td><td>1612</td><td>1622</td><td>1636</td><td>1651</td><td>1667</td><td>1681</td><td>1694</td><td>1704</td><td>⋯</td><td>222</td><td>221</td><td>221</td><td>221</td><td>220</td><td>219</td><td>218</td><td>218</td><td>217</td><td>216</td></tr>\n",
              "\t<tr><td>1005</td><td>Bruker_Vertex_70.HTS.XT</td><td>1920</td><td>1943</td><td>1960</td><td>1962</td><td>1959</td><td>1968</td><td>2005</td><td>2062</td><td>⋯</td><td>574</td><td>573</td><td>573</td><td>572</td><td>572</td><td>571</td><td>571</td><td>571</td><td>570</td><td>569</td></tr>\n",
              "\t<tr><td>1005</td><td>Bruker_Vertex_70.HTS.XT</td><td>1629</td><td>1637</td><td>1649</td><td>1664</td><td>1681</td><td>1695</td><td>1707</td><td>1716</td><td>⋯</td><td>211</td><td>210</td><td>210</td><td>209</td><td>209</td><td>208</td><td>207</td><td>206</td><td>206</td><td>204</td></tr>\n",
              "\t<tr><td>1006</td><td>Bruker_Vertex_70.HTS.XT</td><td>1907</td><td>1916</td><td>1931</td><td>1942</td><td>1954</td><td>1968</td><td>1984</td><td>2008</td><td>⋯</td><td>514</td><td>513</td><td>513</td><td>512</td><td>512</td><td>511</td><td>511</td><td>510</td><td>510</td><td>509</td></tr>\n",
              "\t<tr><td>1006</td><td>Bruker_Vertex_70.HTS.XT</td><td>1574</td><td>1584</td><td>1597</td><td>1611</td><td>1627</td><td>1643</td><td>1657</td><td>1669</td><td>⋯</td><td>195</td><td>195</td><td>194</td><td>194</td><td>193</td><td>192</td><td>192</td><td>191</td><td>190</td><td>189</td></tr>\n",
              "\t<tr><td>1007</td><td>Bruker_Vertex_70.HTS.XT</td><td>1880</td><td>1897</td><td>1909</td><td>1920</td><td>1944</td><td>1959</td><td>1964</td><td>1988</td><td>⋯</td><td>544</td><td>543</td><td>543</td><td>542</td><td>542</td><td>542</td><td>541</td><td>541</td><td>540</td><td>540</td></tr>\n",
              "\t<tr><td>1007</td><td>Bruker_Vertex_70.HTS.XT</td><td>1582</td><td>1595</td><td>1611</td><td>1627</td><td>1644</td><td>1660</td><td>1675</td><td>1687</td><td>⋯</td><td>252</td><td>252</td><td>252</td><td>251</td><td>250</td><td>249</td><td>249</td><td>248</td><td>247</td><td>246</td></tr>\n",
              "\t<tr><td>1008</td><td>Bruker_Vertex_70.HTS.XT</td><td>1882</td><td>1897</td><td>1910</td><td>1923</td><td>1934</td><td>1942</td><td>1945</td><td>1956</td><td>⋯</td><td>443</td><td>443</td><td>442</td><td>442</td><td>441</td><td>441</td><td>441</td><td>440</td><td>440</td><td>439</td></tr>\n",
              "\t<tr><td>1008</td><td>Bruker_Vertex_70.HTS.XT</td><td>1518</td><td>1529</td><td>1543</td><td>1559</td><td>1577</td><td>1593</td><td>1607</td><td>1618</td><td>⋯</td><td>174</td><td>174</td><td>173</td><td>173</td><td>172</td><td>171</td><td>170</td><td>170</td><td>169</td><td>168</td></tr>\n",
              "\t<tr><td>1009</td><td>Bruker_Vertex_70.HTS.XT</td><td>1934</td><td>1934</td><td>1942</td><td>1963</td><td>1977</td><td>1976</td><td>1972</td><td>1988</td><td>⋯</td><td>457</td><td>456</td><td>456</td><td>455</td><td>455</td><td>454</td><td>454</td><td>453</td><td>453</td><td>452</td></tr>\n",
              "\t<tr><td>1009</td><td>Bruker_Vertex_70.HTS.XT</td><td>1568</td><td>1578</td><td>1591</td><td>1606</td><td>1620</td><td>1633</td><td>1646</td><td>1656</td><td>⋯</td><td>207</td><td>206</td><td>206</td><td>206</td><td>205</td><td>204</td><td>203</td><td>203</td><td>202</td><td>201</td></tr>\n",
              "\t<tr><td>1010</td><td>Bruker_Vertex_70.HTS.XT</td><td>1928</td><td>1928</td><td>1947</td><td>1983</td><td>2020</td><td>2036</td><td>2019</td><td>2003</td><td>⋯</td><td>536</td><td>536</td><td>535</td><td>535</td><td>535</td><td>534</td><td>534</td><td>533</td><td>533</td><td>533</td></tr>\n",
              "\t<tr><td>1010</td><td>Bruker_Vertex_70.HTS.XT</td><td>1604</td><td>1617</td><td>1631</td><td>1645</td><td>1660</td><td>1674</td><td>1688</td><td>1700</td><td>⋯</td><td>240</td><td>239</td><td>239</td><td>238</td><td>238</td><td>237</td><td>236</td><td>235</td><td>235</td><td>234</td></tr>\n",
              "\t<tr><td>1011</td><td>Bruker_Vertex_70.HTS.XT</td><td>1844</td><td>1866</td><td>1905</td><td>1938</td><td>1952</td><td>1950</td><td>1934</td><td>1917</td><td>⋯</td><td>478</td><td>477</td><td>477</td><td>476</td><td>476</td><td>475</td><td>475</td><td>474</td><td>474</td><td>473</td></tr>\n",
              "\t<tr><td>1011</td><td>Bruker_Vertex_70.HTS.XT</td><td>1598</td><td>1607</td><td>1619</td><td>1634</td><td>1650</td><td>1665</td><td>1678</td><td>1688</td><td>⋯</td><td>213</td><td>212</td><td>212</td><td>211</td><td>211</td><td>210</td><td>209</td><td>208</td><td>208</td><td>207</td></tr>\n",
              "\t<tr><td>1012</td><td>Bruker_Vertex_70.HTS.XT</td><td>1829</td><td>1832</td><td>1845</td><td>1855</td><td>1865</td><td>1880</td><td>1903</td><td>1932</td><td>⋯</td><td>492</td><td>491</td><td>490</td><td>490</td><td>489</td><td>488</td><td>488</td><td>488</td><td>487</td><td>487</td></tr>\n",
              "\t<tr><td>1012</td><td>Bruker_Vertex_70.HTS.XT</td><td>1500</td><td>1507</td><td>1519</td><td>1534</td><td>1550</td><td>1566</td><td>1579</td><td>1589</td><td>⋯</td><td>196</td><td>195</td><td>195</td><td>194</td><td>194</td><td>193</td><td>192</td><td>192</td><td>191</td><td>190</td></tr>\n",
              "\t<tr><td>1013</td><td>Bruker_Vertex_70.HTS.XT</td><td>1917</td><td>1925</td><td>1935</td><td>1968</td><td>2008</td><td>2017</td><td>1995</td><td>1988</td><td>⋯</td><td>548</td><td>547</td><td>547</td><td>547</td><td>546</td><td>545</td><td>545</td><td>544</td><td>544</td><td>544</td></tr>\n",
              "\t<tr><td>1013</td><td>Bruker_Vertex_70.HTS.XT</td><td>1539</td><td>1550</td><td>1563</td><td>1577</td><td>1591</td><td>1604</td><td>1616</td><td>1625</td><td>⋯</td><td>201</td><td>201</td><td>201</td><td>200</td><td>200</td><td>199</td><td>198</td><td>198</td><td>197</td><td>196</td></tr>\n",
              "\t<tr><td>1014</td><td>Bruker_Vertex_70.HTS.XT</td><td>1898</td><td>1892</td><td>1894</td><td>1917</td><td>1946</td><td>1956</td><td>1958</td><td>1983</td><td>⋯</td><td>433</td><td>433</td><td>432</td><td>432</td><td>431</td><td>430</td><td>429</td><td>429</td><td>429</td><td>428</td></tr>\n",
              "\t<tr><td>1014</td><td>Bruker_Vertex_70.HTS.XT</td><td>1564</td><td>1573</td><td>1584</td><td>1597</td><td>1612</td><td>1627</td><td>1640</td><td>1649</td><td>⋯</td><td>241</td><td>241</td><td>240</td><td>240</td><td>239</td><td>238</td><td>238</td><td>237</td><td>237</td><td>236</td></tr>\n",
              "\t<tr><td>1015</td><td>Bruker_Vertex_70.HTS.XT</td><td>1870</td><td>1903</td><td>1924</td><td>1939</td><td>1949</td><td>1971</td><td>2011</td><td>2039</td><td>⋯</td><td>432</td><td>431</td><td>430</td><td>430</td><td>429</td><td>429</td><td>428</td><td>428</td><td>427</td><td>427</td></tr>\n",
              "\t<tr><td>1015</td><td>Bruker_Vertex_70.HTS.XT</td><td>1639</td><td>1652</td><td>1665</td><td>1679</td><td>1694</td><td>1709</td><td>1722</td><td>1734</td><td>⋯</td><td>236</td><td>236</td><td>235</td><td>235</td><td>234</td><td>233</td><td>232</td><td>232</td><td>231</td><td>230</td></tr>\n",
              "\t<tr><td>1016</td><td>Bruker_Vertex_70.HTS.XT</td><td>1788</td><td>1792</td><td>1810</td><td>1824</td><td>1844</td><td>1869</td><td>1875</td><td>1878</td><td>⋯</td><td>525</td><td>524</td><td>524</td><td>523</td><td>522</td><td>522</td><td>521</td><td>520</td><td>520</td><td>519</td></tr>\n",
              "\t<tr><td>1016</td><td>Bruker_Vertex_70.HTS.XT</td><td>1616</td><td>1626</td><td>1641</td><td>1657</td><td>1674</td><td>1689</td><td>1702</td><td>1714</td><td>⋯</td><td>267</td><td>267</td><td>266</td><td>266</td><td>265</td><td>264</td><td>263</td><td>262</td><td>262</td><td>261</td></tr>\n",
              "\t<tr><td>1017</td><td>Bruker_Vertex_70.HTS.XT</td><td>1835</td><td>1859</td><td>1901</td><td>1930</td><td>1949</td><td>1959</td><td>1961</td><td>1971</td><td>⋯</td><td>442</td><td>442</td><td>441</td><td>441</td><td>441</td><td>440</td><td>439</td><td>439</td><td>438</td><td>438</td></tr>\n",
              "\t<tr><td>1017</td><td>Bruker_Vertex_70.HTS.XT</td><td>1668</td><td>1679</td><td>1693</td><td>1709</td><td>1724</td><td>1740</td><td>1754</td><td>1767</td><td>⋯</td><td>302</td><td>302</td><td>301</td><td>301</td><td>300</td><td>299</td><td>298</td><td>297</td><td>297</td><td>296</td></tr>\n",
              "\t<tr><td>1018</td><td>Bruker_Vertex_70.HTS.XT</td><td>1952</td><td>1960</td><td>1967</td><td>1969</td><td>1980</td><td>2004</td><td>2030</td><td>2070</td><td>⋯</td><td>563</td><td>563</td><td>562</td><td>562</td><td>561</td><td>561</td><td>561</td><td>560</td><td>560</td><td>559</td></tr>\n",
              "\t<tr><td>1018</td><td>Bruker_Vertex_70.HTS.XT</td><td>1615</td><td>1624</td><td>1636</td><td>1650</td><td>1666</td><td>1680</td><td>1691</td><td>1701</td><td>⋯</td><td>237</td><td>237</td><td>236</td><td>236</td><td>235</td><td>234</td><td>233</td><td>233</td><td>232</td><td>231</td></tr>\n",
              "</tbody>\n",
              "</table>\n"
            ]
          },
          "metadata": {}
        }
      ]
    }
  ]
}